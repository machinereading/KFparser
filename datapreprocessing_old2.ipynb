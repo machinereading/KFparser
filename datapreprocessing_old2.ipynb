{
 "cells": [
  {
   "cell_type": "code",
   "execution_count": 2,
   "metadata": {
    "collapsed": true
   },
   "outputs": [],
   "source": [
    "from koreanframenet import kfn\n",
    "import json"
   ]
  },
  {
   "cell_type": "code",
   "execution_count": 3,
   "metadata": {
    "collapsed": false
   },
   "outputs": [
    {
     "name": "stdout",
     "output_type": "stream",
     "text": [
      "### load KFN ###\n"
     ]
    }
   ],
   "source": [
    "def load_kfn():\n",
    "    with open('./koreanframenet/resource/KFN_lus.json.bak3', 'r') as f:\n",
    "        kolu = json.load(f)\n",
    "    with open('./koreanframenet/resource/KFN_annotations.json','r') as f:\n",
    "        koanno = json.load(f)\n",
    "    print('### load KFN ###')\n",
    "    return kolu, koanno\n",
    "kolu, koanno = load_kfn()"
   ]
  },
  {
   "cell_type": "code",
   "execution_count": 22,
   "metadata": {
    "collapsed": false
   },
   "outputs": [
    {
     "name": "stdout",
     "output_type": "stream",
     "text": [
      "1337\n"
     ]
    }
   ],
   "source": [
    "n = 0\n",
    "for i in kolu:\n",
    "    c = len(i['ko_annotation_id'])\n",
    "    if c > 2:\n",
    "        n += 1\n",
    "print(n)"
   ]
  },
  {
   "cell_type": "code",
   "execution_count": 17,
   "metadata": {
    "collapsed": false
   },
   "outputs": [],
   "source": [
    "def ddd():\n",
    "    n = 0\n",
    "    lus = []\n",
    "    for i in kolu:\n",
    "        lu_list = i['lu'].split('.')\n",
    "        lu = lu_list[0]+('.')+lu_list[1]\n",
    "        lus.append(lu)\n",
    "\n",
    "    lus = list(set(lus))\n",
    "\n",
    "    mylist = []\n",
    "    for i in lus:\n",
    "        l = []\n",
    "        for j in kolu:\n",
    "            lu_list = j['lu'].split('.')\n",
    "            lu = lu_list[0]+('.')+lu_list[1]\n",
    "            if i == lu:\n",
    "                a = j['ko_annotation_id']\n",
    "                l = l+a\n",
    "        d = {}\n",
    "        d['lu'] = i\n",
    "        d['a'] = l\n",
    "        mylist.append(d)\n",
    "\n",
    "    n = 0\n",
    "    for i in mylist:\n",
    "        if len(i['a']) > 2:\n",
    "            n += 1\n",
    "\n",
    "    with open('./ddd.json','w') as f:\n",
    "        json.dump(mylist, f, ensure_ascii=False, indent=4)\n",
    "ddd()"
   ]
  },
  {
   "cell_type": "code",
   "execution_count": 25,
   "metadata": {
    "collapsed": false
   },
   "outputs": [
    {
     "name": "stdout",
     "output_type": "stream",
     "text": [
      "1998 1212 650 136\n"
     ]
    }
   ],
   "source": [
    "count = 0\n",
    "n,v,a = 0,0,0\n",
    "with open('./ddd.json','r') as f:\n",
    "    d = json.load(f)\n",
    "for i in d:\n",
    "    if len(i['a']) > 1:\n",
    "        pos = i['lu'].split('.')[1]\n",
    "        if pos == 'n':\n",
    "            n += 1\n",
    "        elif pos == 'a':\n",
    "            a += 1\n",
    "        elif pos == 'v':\n",
    "            v += 1\n",
    "        count += 1\n",
    "print(count, n, v,a)"
   ]
  }
 ],
 "metadata": {
  "kernelspec": {
   "display_name": "Python 3",
   "language": "python",
   "name": "python3"
  },
  "language_info": {
   "codemirror_mode": {
    "name": "ipython",
    "version": 3
   },
   "file_extension": ".py",
   "mimetype": "text/x-python",
   "name": "python",
   "nbconvert_exporter": "python",
   "pygments_lexer": "ipython3",
   "version": "3.5.2"
  }
 },
 "nbformat": 4,
 "nbformat_minor": 2
}
