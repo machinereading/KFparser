{
 "cells": [
  {
   "cell_type": "code",
   "execution_count": null,
   "metadata": {
    "collapsed": true
   },
   "outputs": [],
   "source": [
    "import json\n",
    "def gen_lufrmmap(word):\n",
    "    with open('./KFN_lus.json','r') as f:\n",
    "        kofrn = json.load(f)\n",
    "    \n",
    "    for i in kofrn:\n",
    "        lu = i['lu'].split('.')[0]\n",
    "        if word == lu:\n",
    "            result = i['frameName']\n",
    "            break\n",
    "    return result\n",
    "        \n",
    "    "
   ]
  }
 ],
 "metadata": {
  "kernelspec": {
   "display_name": "Python 3",
   "language": "python",
   "name": "python3"
  },
  "language_info": {
   "codemirror_mode": {
    "name": "ipython",
    "version": 3
   },
   "file_extension": ".py",
   "mimetype": "text/x-python",
   "name": "python",
   "nbconvert_exporter": "python",
   "pygments_lexer": "ipython3",
   "version": "3.5.2"
  }
 },
 "nbformat": 4,
 "nbformat_minor": 2
}
