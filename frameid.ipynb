{
 "cells": [
  {
   "cell_type": "code",
   "execution_count": 5,
   "metadata": {},
   "outputs": [],
   "source": [
    "import json\n",
    "import re\n",
    "from koreanframenet import kfn\n",
    "import preprocessor\n",
    "import random"
   ]
  },
  {
   "cell_type": "code",
   "execution_count": 6,
   "metadata": {},
   "outputs": [
    {
     "name": "stdout",
     "output_type": "stream",
     "text": [
      "# training_data\n",
      " - number of sentences: 3220\n",
      " - number of annotations: 12431 \n",
      "\n",
      "# test_data\n",
      " - number of sentences: 1124\n",
      " - number of annotations: 4382 \n",
      "\n",
      "# dev_data\n",
      " - number of sentences: 183\n",
      " - number of annotations: 624 \n",
      "\n",
      "# exemplar data (from sejong)\n",
      " - number of sentences: 10967\n",
      " - number of annotations: 10967 \n",
      "\n"
     ]
    }
   ],
   "source": [
    "preprocessor.data_stat()"
   ]
  },
  {
   "cell_type": "code",
   "execution_count": 7,
   "metadata": {},
   "outputs": [],
   "source": [
    "def get_frame_candidates(token_list):\n",
    "    lu_list = []\n",
    "    frame_candis = []\n",
    "    for token in token_list:\n",
    "        if token[12] != '_':\n",
    "            target = token[12]\n",
    "            lu_list = kfn.lus_by_lu(target)\n",
    "            break\n",
    "#     for lu_item in lu_list:\n",
    "#         frame_candi = lu_item['frameName']\n",
    "#         frame_candis.append(frame_candi)\n",
    "#     frame_candis = list(set(frame_candis))\n",
    "    return lu_list"
   ]
  },
  {
   "cell_type": "code",
   "execution_count": 8,
   "metadata": {},
   "outputs": [],
   "source": [
    "def frame_identification_frequent(token_list):\n",
    "    lu_list = get_frame_candidates(token_list)\n",
    "    max_num = 0\n",
    "    frame = None\n",
    "    for lu_item in lu_list:\n",
    "        count = len(lu_item['ko_annotation_id'])\n",
    "        if count > max_num:\n",
    "            frame = lu_item['frameName']\n",
    "            max_num = count\n",
    "    return frame"
   ]
  },
  {
   "cell_type": "code",
   "execution_count": 9,
   "metadata": {},
   "outputs": [],
   "source": [
    "def frame_identification_random(token_list):\n",
    "    lu_list = get_frame_candidates(token_list)\n",
    "    frame_candis = []\n",
    "    for lu_item in lu_list:\n",
    "        frame_candi = lu_item['frameName']\n",
    "        frame_candis.append(frame_candi)\n",
    "    frame_candis = list(set(frame_candis))\n",
    "    if len(frame_candis) > 0:\n",
    "        frame = random.choice(frame_candis)\n",
    "    else:\n",
    "        frame = None\n",
    "    return frame"
   ]
  },
  {
   "cell_type": "code",
   "execution_count": 10,
   "metadata": {},
   "outputs": [],
   "source": [
    "def frame_identifier(sent_list, model):\n",
    "    for n in range(len(sent_list)):\n",
    "        if model == 'random':\n",
    "            frame  = frame_identification_random(sent_list[n])\n",
    "        elif model == 'frequent':\n",
    "            frame = frame_identification_frequent(sent_list[n])\n",
    "        else:\n",
    "            print('no model')\n",
    "        if frame != None:\n",
    "            for token in sent_list[n]:\n",
    "                if token[12] != '_':\n",
    "                    token.append(frame)\n",
    "                else:\n",
    "                    token.append('_')\n",
    "        else:\n",
    "            for token in sent_list[n]:\n",
    "                token.append('_')\n",
    "    return sent_list"
   ]
  },
  {
   "cell_type": "code",
   "execution_count": 11,
   "metadata": {},
   "outputs": [
    {
     "name": "stdout",
     "output_type": "stream",
     "text": [
      "### loading data now...\n",
      "### loading data now...\n",
      "MODEL: random , accuracy: 0.5356\n",
      "Result is save at ./tmp/frameid.result.random\n",
      "\n",
      "### loading data now...\n",
      "MODEL: frequent , accuracy: 0.8188\n",
      "Result is save at ./tmp/frameid.result.frequent\n",
      "\n"
     ]
    }
   ],
   "source": [
    "def eval_model(test_data, model):    \n",
    "    answer, wrong = 0,0    \n",
    "    fid_result = frame_identifier(test_data, model)\n",
    "    result = []\n",
    "    for sent_num in range(len(test_data)):\n",
    "        for token in test_data[sent_num]:\n",
    "            if token[13] != '_':\n",
    "                gold = token[13]\n",
    "                break\n",
    "        for token in fid_result[sent_num]:\n",
    "            if token[-1] != '_':\n",
    "                pred = token[-1]\n",
    "                break\n",
    "        if gold == pred:\n",
    "            answer += 1\n",
    "        else:\n",
    "            wrong += 1\n",
    "        new_sent_list = []\n",
    "        for token in test_data[sent_num]:\n",
    "            token = token[:14]\n",
    "            if token[12] == '_':\n",
    "                token.append('_')\n",
    "            else:\n",
    "                token.append(pred)\n",
    "            new_sent_list.append(token)\n",
    "        result.append(new_sent_list)\n",
    "    fname = './tmp/frameid.result.'+model\n",
    "    with open(fname, 'w') as f:\n",
    "        for i in result:\n",
    "            for token in i:\n",
    "                line = '\\t'.join(map(str,token))\n",
    "                f.write(line+'\\n')\n",
    "            f.write('\\n')\n",
    "    perform = round(answer / (answer+wrong), 4)\n",
    "    return perform, fname\n",
    "        \n",
    "\n",
    "def evaluation():\n",
    "    _, test_data, _, _ = preprocessor.load_data()\n",
    "    models = ['random', 'frequent']\n",
    "    for model in models:\n",
    "        _, test_data, _, _ = preprocessor.load_data()\n",
    "        perform, fname = eval_model(test_data, model)\n",
    "        print('MODEL:', model, ', accuracy:',perform)\n",
    "        print('Result is save at', fname)\n",
    "        print('')\n",
    "evaluation()"
   ]
  },
  {
   "cell_type": "code",
   "execution_count": 4,
   "metadata": {
    "scrolled": true
   },
   "outputs": [
    {
     "name": "stdout",
     "output_type": "stream",
     "text": [
      "### loading data now...\n"
     ]
    },
    {
     "ename": "NameError",
     "evalue": "name 'frame_identifier' is not defined",
     "output_type": "error",
     "traceback": [
      "\u001b[0;31m---------------------------------------------------------------------------\u001b[0m",
      "\u001b[0;31mNameError\u001b[0m                                 Traceback (most recent call last)",
      "\u001b[0;32m<ipython-input-4-08fecdacc0d4>\u001b[0m in \u001b[0;36m<module>\u001b[0;34m()\u001b[0m\n\u001b[1;32m      9\u001b[0m     \u001b[0mfid_result\u001b[0m \u001b[0;34m=\u001b[0m \u001b[0mframe_identifier\u001b[0m\u001b[0;34m(\u001b[0m\u001b[0mtesting\u001b[0m\u001b[0;34m,\u001b[0m \u001b[0;34m'frequent'\u001b[0m\u001b[0;34m)\u001b[0m\u001b[0;34m\u001b[0m\u001b[0m\n\u001b[1;32m     10\u001b[0m \u001b[0;34m\u001b[0m\u001b[0m\n\u001b[0;32m---> 11\u001b[0;31m \u001b[0mtest\u001b[0m\u001b[0;34m(\u001b[0m\u001b[0;34m)\u001b[0m\u001b[0;34m\u001b[0m\u001b[0m\n\u001b[0m",
      "\u001b[0;32m<ipython-input-4-08fecdacc0d4>\u001b[0m in \u001b[0;36mtest\u001b[0;34m()\u001b[0m\n\u001b[1;32m      3\u001b[0m \u001b[0;34m\u001b[0m\u001b[0m\n\u001b[1;32m      4\u001b[0m     \u001b[0m_\u001b[0m\u001b[0;34m,\u001b[0m \u001b[0mtest_data\u001b[0m\u001b[0;34m,\u001b[0m \u001b[0m_\u001b[0m\u001b[0;34m,\u001b[0m \u001b[0m_\u001b[0m \u001b[0;34m=\u001b[0m \u001b[0mpreprocessor\u001b[0m\u001b[0;34m.\u001b[0m\u001b[0mload_data\u001b[0m\u001b[0;34m(\u001b[0m\u001b[0;34m)\u001b[0m\u001b[0;34m\u001b[0m\u001b[0m\n\u001b[0;32m----> 5\u001b[0;31m     \u001b[0mfid_result\u001b[0m \u001b[0;34m=\u001b[0m \u001b[0mframe_identifier\u001b[0m\u001b[0;34m(\u001b[0m\u001b[0mtesting\u001b[0m\u001b[0;34m,\u001b[0m \u001b[0;34m'random'\u001b[0m\u001b[0;34m)\u001b[0m\u001b[0;34m\u001b[0m\u001b[0m\n\u001b[0m\u001b[1;32m      6\u001b[0m     \u001b[0;31m#evaluation()\u001b[0m\u001b[0;34m\u001b[0m\u001b[0;34m\u001b[0m\u001b[0m\n\u001b[1;32m      7\u001b[0m \u001b[0;34m\u001b[0m\u001b[0m\n",
      "\u001b[0;31mNameError\u001b[0m: name 'frame_identifier' is not defined"
     ]
    }
   ],
   "source": [
    "def test():\n",
    "    import targetid\n",
    "    \n",
    "    _, test_data, _, _ = preprocessor.load_data()\n",
    "    fid_result = frame_identifier(testing, 'random')\n",
    "    #evaluation()\n",
    "\n",
    "    _, test_data, _, _ = preprocessor.load_data()\n",
    "    fid_result = frame_identifier(testing, 'frequent')\n",
    "\n",
    "test()"
   ]
  }
 ],
 "metadata": {
  "kernelspec": {
   "display_name": "Python 3",
   "language": "python",
   "name": "python3"
  },
  "language_info": {
   "codemirror_mode": {
    "name": "ipython",
    "version": 3
   },
   "file_extension": ".py",
   "mimetype": "text/x-python",
   "name": "python",
   "nbconvert_exporter": "python",
   "pygments_lexer": "ipython3",
   "version": "3.6.5"
  }
 },
 "nbformat": 4,
 "nbformat_minor": 2
}
