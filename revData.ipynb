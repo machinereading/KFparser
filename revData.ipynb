{
 "cells": [
  {
   "cell_type": "code",
   "execution_count": 2,
   "metadata": {
    "collapsed": false
   },
   "outputs": [
    {
     "name": "stdout",
     "output_type": "stream",
     "text": [
      "중국은 파키스탄, 이란, 그리고 북한을 포함한, 여러 나라의 미사일 프로그램에 기술과 전문가를 제공하였다.\n",
      "이란은 화학 시설과 과거 화학무기 비축에 관한 선언서를 제출하였는데, 이란은 화학무기 금지기구 조사관들이 있는 곳에서 화학무기 생산 장비를 파괴하였고, 화학 산업 시설들에 대해 화학무기 금지기구의 조사를 수 차례 받았다.\n",
      "이란은 화학 시설과 과거 화학무기 비축에 관한 선언서를 제출하였는데, 이란은 화학무기 금지기구 조사관들이 있는 곳에서 화학무기 생산 장비를 파괴하였고, 화학 산업 시설들에 대해 화학무기 금지기구의 조사를 수 차례 받았다.\n"
     ]
    }
   ],
   "source": [
    "import json\n",
    "import etri\n",
    "\n",
    "f1 = './koreanframenet/data/bak/test.tsv'\n",
    "f2 = './koreanframenet/data/bak/training.tsv'\n",
    "f3 = './koreanframenet/data/bak/training_fe.tsv'\n",
    "files = [f1, f2, f3]\n",
    "\n",
    "def getCoNLL(lines, filename):\n",
    "    filetype = filename.split('/')[-1]\n",
    "    target_file = './'+filetype\n",
    "    result = []\n",
    "    sent = []\n",
    "    sent_ids = []\n",
    "    each_sent = {}\n",
    "    for line in lines:\n",
    "        line = line.rstrip('\\n')\n",
    "        if line.startswith('#'):\n",
    "            if line[1] == 's':\n",
    "                #sent_id = line.split(':')[1]\n",
    "                each_sent['sent_id'] = line\n",
    "            else:\n",
    "                #text = line[6:]\n",
    "                each_sent['text'] = line\n",
    "        else:\n",
    "            if line != '':\n",
    "                token = line.split('\\t')\n",
    "                sent.append(token)\n",
    "            else:\n",
    "                each_sent['conll'] = sent\n",
    "                result.append(each_sent)\n",
    "                each_sent = {}\n",
    "                sent = []\n",
    "    with open(target_file, 'a') as f:\n",
    "        for i in result:\n",
    "            sent_id = i['sent_id']\n",
    "            text = i['text']\n",
    "            ori_text = text[6:]\n",
    "            f.write(sent_id+'\\n')\n",
    "            f.write(text+'\\n')\n",
    "            conll = i['conll']\n",
    "            etri_result = etri.getETRI_CoNLL2006(ori_text)\n",
    "            morp = []\n",
    "            for i in range(len(conll)):\n",
    "                conll[i][2] = etri_result[i][2]\n",
    "                if conll[i][11] != '_':\n",
    "                    conll[i][11] = conll[i][11].lower()\n",
    "            for token in conll:\n",
    "                line = '\\t'.join(map(str,token))\n",
    "                f.write(line+'\\n')\n",
    "            f.write('\\n')\n",
    "    print('write:', target_file)\n",
    "\n",
    "def genData():\n",
    "    for i in files:\n",
    "        with open(i, 'r') as f:\n",
    "            d = f.readlines()\n",
    "            conll = getCoNLL(d, i)\n",
    "            \n",
    "genData()\n",
    "        "
   ]
  }
 ],
 "metadata": {
  "kernelspec": {
   "display_name": "Python 3",
   "language": "python",
   "name": "python3"
  },
  "language_info": {
   "codemirror_mode": {
    "name": "ipython",
    "version": 3
   },
   "file_extension": ".py",
   "mimetype": "text/x-python",
   "name": "python",
   "nbconvert_exporter": "python",
   "pygments_lexer": "ipython3",
   "version": "3.5.2"
  }
 },
 "nbformat": 4,
 "nbformat_minor": 2
}
