{
 "cells": [
  {
   "cell_type": "code",
   "execution_count": 25,
   "metadata": {
    "collapsed": false
   },
   "outputs": [
    {
     "name": "stdout",
     "output_type": "stream",
     "text": [
      "10 년 1 개월 12 일 이후입니다 (윤달제외)\n"
     ]
    }
   ],
   "source": [
    "def nnjjww2(number):\n",
    "    year = round(number / 365)\n",
    "    month = round((round(number - (year*365)))/30)\n",
    "    day = (round(number - (year*365))) - (month*30)\n",
    "    print(year, '년', month, '개월', day, '일 이후입니다 (윤달제외)')\n",
    "nnjjww2(3692)"
   ]
  }
 ],
 "metadata": {
  "kernelspec": {
   "display_name": "Python 3",
   "language": "python",
   "name": "python3"
  },
  "language_info": {
   "codemirror_mode": {
    "name": "ipython",
    "version": 3
   },
   "file_extension": ".py",
   "mimetype": "text/x-python",
   "name": "python",
   "nbconvert_exporter": "python",
   "pygments_lexer": "ipython3",
   "version": "3.5.2"
  }
 },
 "nbformat": 4,
 "nbformat_minor": 2
}
