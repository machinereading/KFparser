{
 "cells": [
  {
   "cell_type": "code",
   "execution_count": 2,
   "metadata": {
    "collapsed": false
   },
   "outputs": [],
   "source": [
    "def posChanger(pos): \n",
    "    if pos.startswith('N'):\n",
    "        pos = 'n'\n",
    "    elif pos == 'VV':\n",
    "        pos = 'v'\n",
    "    elif pos == 'VA':\n",
    "        pos = 'a'\n",
    "    else:\n",
    "        pass\n",
    "    return pos"
   ]
  }
 ],
 "metadata": {
  "kernelspec": {
   "display_name": "Python 3",
   "language": "python",
   "name": "python3"
  },
  "language_info": {
   "codemirror_mode": {
    "name": "ipython",
    "version": 3
   },
   "file_extension": ".py",
   "mimetype": "text/x-python",
   "name": "python",
   "nbconvert_exporter": "python",
   "pygments_lexer": "ipython3",
   "version": "3.5.2"
  }
 },
 "nbformat": 4,
 "nbformat_minor": 2
}
