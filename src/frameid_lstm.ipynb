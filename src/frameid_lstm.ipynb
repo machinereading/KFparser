{
 "cells": [
  {
   "cell_type": "code",
   "execution_count": 1,
   "metadata": {},
   "outputs": [
    {
     "data": {
      "text/plain": [
       "<torch._C.Generator at 0x7fa3dcb4ca90>"
      ]
     },
     "execution_count": 1,
     "metadata": {},
     "output_type": "execute_result"
    }
   ],
   "source": [
    "import torch\n",
    "import torch.nn as nn\n",
    "import torch.nn.functional as F\n",
    "import torch.optim as optim\n",
    "import os\n",
    "import sys\n",
    "import os\n",
    "import pprint\n",
    "os.environ[\"CUDA_VISIBLE_DEVICES\"]= \"0\"\n",
    "os.environ['CUDA_LAUNCH_BLOCKING'] = \"1\"\n",
    "import torch.backends.cudnn as cudnn\n",
    "cudnn.benchmark = True\n",
    "\n",
    "sys.path.insert(0,'../')\n",
    "import preprocessor\n",
    "\n",
    "import time\n",
    "start_time = time.time()\n",
    "\n",
    "torch.manual_seed(1)\n"
   ]
  },
  {
   "cell_type": "code",
   "execution_count": 2,
   "metadata": {},
   "outputs": [
    {
     "name": "stdout",
     "output_type": "stream",
     "text": [
      "GPU: GeForce GTX 1080 , # of gpu:(1)\n",
      "Torch Version: 9.0.176\n"
     ]
    }
   ],
   "source": [
    "print('GPU:', torch.cuda.get_device_name(0), ', # of gpu:('+str(torch.cuda.device_count())+')')\n",
    "print('Torch Version:', torch.version.cuda)"
   ]
  },
  {
   "cell_type": "code",
   "execution_count": 3,
   "metadata": {},
   "outputs": [
    {
     "name": "stdout",
     "output_type": "stream",
     "text": [
      "### loading data now...\n"
     ]
    }
   ],
   "source": [
    "training_data, test_data, dev_data, exemplar_data = preprocessor.load_data()"
   ]
  },
  {
   "cell_type": "code",
   "execution_count": 4,
   "metadata": {},
   "outputs": [
    {
     "name": "stdout",
     "output_type": "stream",
     "text": [
      "# training_data\n",
      " - number of sentences: 3220\n",
      " - number of annotations: 12431 \n",
      "\n",
      "# test_data\n",
      " - number of sentences: 1124\n",
      " - number of annotations: 4382 \n",
      "\n",
      "# dev_data\n",
      " - number of sentences: 183\n",
      " - number of annotations: 624 \n",
      "\n",
      "# exemplar data (from sejong)\n",
      " - number of sentences: 10967\n",
      " - number of annotations: 10967 \n",
      "\n"
     ]
    }
   ],
   "source": [
    "preprocessor.data_stat()"
   ]
  },
  {
   "cell_type": "code",
   "execution_count": 5,
   "metadata": {},
   "outputs": [
    {
     "name": "stdout",
     "output_type": "stream",
     "text": [
      "\n",
      "### CONFIGURATION ###\n",
      "\n",
      "{'hidden_dim': 64,\n",
      " 'learning_rate': 0.0005,\n",
      " 'lstm_depth': 2,\n",
      " 'lstm_dim': 64,\n",
      " 'lstm_input_dim': 64,\n",
      " 'lu_dim': 64,\n",
      " 'lu_pos_dim': 5,\n",
      " 'num_epochs': 25,\n",
      " 'pos_dim': 4,\n",
      " 'token_dim': 60,\n",
      " 'using_GPU': True}\n"
     ]
    }
   ],
   "source": [
    "configuration = {'token_dim': 60,\n",
    "                 'hidden_dim': 64,\n",
    "                 'pos_dim': 4,\n",
    "                 'lu_dim': 64,\n",
    "                 'lu_pos_dim': 5,\n",
    "                 'lstm_input_dim': 64,\n",
    "                 'lstm_dim': 64,\n",
    "                 'lstm_depth': 2,\n",
    "                 'hidden_dim': 64,\n",
    "                 'num_epochs': 25,\n",
    "                 'learning_rate': 0.0005,\n",
    "                 'using_GPU': True}\n",
    "print('\\n### CONFIGURATION ###\\n')\n",
    "pprint.pprint(configuration)"
   ]
  },
  {
   "cell_type": "code",
   "execution_count": 6,
   "metadata": {},
   "outputs": [],
   "source": [
    "model_path = './model/lstm180731'"
   ]
  },
  {
   "cell_type": "code",
   "execution_count": 7,
   "metadata": {},
   "outputs": [],
   "source": [
    "#Hyper-parameters\n",
    "usingGPU = configuration['using_GPU']\n",
    "TOKDIM= configuration['token_dim']\n",
    "POSDIM = configuration['pos_dim']\n",
    "LUDIM = configuration['lu_dim']\n",
    "LPDIM = configuration['lu_pos_dim']\n",
    "INPDIM = LUDIM + LPDIM\n",
    "LSTMINPDIM = configuration['lstm_input_dim']\n",
    "LSTMDIM = configuration['lstm_dim']\n",
    "LSTMDEPTH = configuration['lstm_depth']\n",
    "HIDDENDIM = configuration['hidden_dim']\n",
    "# TOKDIM = 6\n",
    "# HIDDENDIM =6\n",
    "NUM_EPOCHS = configuration['num_epochs']\n",
    "learning_rate = configuration['learning_rate']\n",
    "\n",
    "# num_layers = 1\n",
    "# num_epochs = 5\n",
    "# num_samples = 1000     # number of words to be sampled\n",
    "# batch_size = 20\n",
    "# seq_length = 30"
   ]
  },
  {
   "cell_type": "code",
   "execution_count": 8,
   "metadata": {},
   "outputs": [
    {
     "name": "stdout",
     "output_type": "stream",
     "text": [
      "###  word vocab size: 21171\n",
      "### frame vocab size: 657\n"
     ]
    }
   ],
   "source": [
    "def prepare_index():\n",
    "    word_to_ix = {}\n",
    "    pos_to_ix = {}\n",
    "    frame_to_ix = {}\n",
    "    for tokens in training_data:\n",
    "        for t in tokens:\n",
    "            word = t[1]\n",
    "            if word not in word_to_ix:\n",
    "                word_to_ix[word] = len(word_to_ix)            \n",
    "#             pos = t[4]\n",
    "#             if pos not in pos_to_ix:\n",
    "#                 pos_to_ix[pos] = len(pos_to_ix)\n",
    "            frame = t[13]\n",
    "            if frame != '_':\n",
    "                if frame not in frame_to_ix:\n",
    "                    frame_to_ix[frame] = len(frame_to_ix)\n",
    "    return word_to_ix, frame_to_ix\n",
    "word_to_ix, frame_to_ix = prepare_index()\n",
    "print('###  word vocab size:', len(word_to_ix))\n",
    "print('### frame vocab size:', len(frame_to_ix))"
   ]
  },
  {
   "cell_type": "code",
   "execution_count": 9,
   "metadata": {},
   "outputs": [],
   "source": [
    "def prepare_sequence(seq, to_ix):\n",
    "    idxs = [to_ix[w] for w in seq]\n",
    "    if usingGPU:\n",
    "        return torch.tensor(idxs).type(torch.cuda.LongTensor)\n",
    "    else:\n",
    "        return torch.tensor(idxs, dtype=torch.long)\n"
   ]
  },
  {
   "cell_type": "code",
   "execution_count": 10,
   "metadata": {},
   "outputs": [],
   "source": [
    "def prepare_frame_sequence(seq, to_ix):\n",
    "    idxs = [to_ix[w] for w in seq if w != '_']\n",
    "    idxs = list(set(idxs))\n",
    "    if usingGPU:\n",
    "        return torch.tensor(idxs).type(torch.cuda.LongTensor)\n",
    "    else:\n",
    "        return torch.tensor(idxs, dtype=torch.long)\n"
   ]
  },
  {
   "cell_type": "code",
   "execution_count": 11,
   "metadata": {},
   "outputs": [],
   "source": [
    "def prepare_sentence(tokens):\n",
    "    sentence = []\n",
    "    pos = []\n",
    "    frame = []\n",
    "    for token in tokens:\n",
    "        w = token[1]\n",
    "        p = token[4]\n",
    "        f = token[13]\n",
    "        sentence.append(w)\n",
    "        pos.append(p)\n",
    "        frame.append(f)\n",
    "    return sentence, pos, frame"
   ]
  },
  {
   "cell_type": "code",
   "execution_count": 12,
   "metadata": {},
   "outputs": [],
   "source": [
    "def get_targetpositions(tokens):\n",
    "    positions = []\n",
    "    for i in tokens:\n",
    "        if i[12] != '_':\n",
    "            positions.append(int(i[0]))\n",
    "    return positions"
   ]
  },
  {
   "cell_type": "code",
   "execution_count": 13,
   "metadata": {},
   "outputs": [],
   "source": [
    "def get_target_span(sentence, targetpositions):\n",
    "    start, end = targetpositions[0], targetpositions[-1]\n",
    "    span = {}\n",
    "    if start == 0: span['start'] = 0\n",
    "    else: span['start'] = start -1\n",
    "    if end == len(sentence): span['end'] = end+1\n",
    "    else: span['end'] = end+2\n",
    "    return span"
   ]
  },
  {
   "cell_type": "code",
   "execution_count": 16,
   "metadata": {},
   "outputs": [],
   "source": [
    "class LSTMTagger(nn.Module):\n",
    "    \n",
    "    def __init__(self, vocab_size, tagset_size):\n",
    "        super(LSTMTagger, self).__init__()\n",
    "        self.word_embeddings = nn.Embedding(vocab_size, TOKDIM)\n",
    "        \n",
    "        # 1st LSTM network (bi-LSTM)\n",
    "        self.lstm_1 = nn.LSTM(TOKDIM, HIDDENDIM//2, bidirectional=True)\n",
    "        self.hidden_lstm_1 = self.init_hidden_lstm_1()\n",
    "        \n",
    "        # 2nd LSTM network (LSTM)\n",
    "        self.hidden_lstm_2 = self.init_hidden_lstm_2()\n",
    "        self.lstm_2 = nn.LSTM(HIDDENDIM, HIDDENDIM)\n",
    "        \n",
    "        self.target2hidden = nn.Linear(HIDDENDIM, HIDDENDIM)\n",
    "        self.hidden2tag = nn.Linear(HIDDENDIM, tagset_size) \n",
    "    \n",
    "    def init_hidden(self):\n",
    "        return (torch.zeros(1, 1, HIDDENDIM),\n",
    "                torch.zeros(1, 1, HIDDENDIM))\n",
    "    \n",
    "    def init_hidden_lstm_1(self):\n",
    "        return (torch.zeros(2, 1, HIDDENDIM//2),\n",
    "                torch.zeros(2, 1, HIDDENDIM//2))\n",
    "        \n",
    "    def init_hidden_lstm_2(self):\n",
    "        return (torch.zeros(1, 1, HIDDENDIM),\n",
    "                torch.zeros(1, 1, HIDDENDIM))\n",
    "\n",
    "\n",
    "    def forward(self, sentence, targetpositions):\n",
    "        embeds = self.word_embeddings(sentence)\n",
    "        if usingGPU:\n",
    "            embeds = embeds.view(len(sentence), 1, -1).cuda()\n",
    "        else:\n",
    "            embeds = embeds.view(len(sentence), 1, -1)\n",
    "        lstm_out_1, self.hidden_lstm_1 = self.lstm_1(\n",
    "            embeds, self.hidden_lstm_1)\n",
    "\n",
    "        span = get_target_span(sentence, targetpositions)  \n",
    "        target_lstm = lstm_out_1[span['start']:span['end']]\n",
    "        \n",
    "        lstm_out_2, self.hidden = self.lstm_2(\n",
    "            target_lstm, self.hidden_lstm_2)\n",
    "        \n",
    "        target_vec = lstm_out_2[-1]\n",
    "\n",
    "        tag_space = self.target2hidden(target_vec)\n",
    "        tag_space = F.relu(tag_space)\n",
    "        tag_space = self.hidden2tag(tag_space)\n",
    "\n",
    "        tag_scores = F.log_softmax(tag_space, dim=1)\n",
    "        return tag_scores"
   ]
  },
  {
   "cell_type": "code",
   "execution_count": 17,
   "metadata": {},
   "outputs": [
    {
     "ename": "RuntimeError",
     "evalue": "CUDA error: an illegal memory access was encountered",
     "output_type": "error",
     "traceback": [
      "\u001b[0;31m---------------------------------------------------------------------------\u001b[0m",
      "\u001b[0;31mRuntimeError\u001b[0m                              Traceback (most recent call last)",
      "\u001b[0;32m<ipython-input-17-ea25fb2fd83e>\u001b[0m in \u001b[0;36m<module>\u001b[0;34m()\u001b[0m\n\u001b[1;32m      1\u001b[0m \u001b[0mmodel\u001b[0m \u001b[0;34m=\u001b[0m \u001b[0mLSTMTagger\u001b[0m\u001b[0;34m(\u001b[0m\u001b[0mlen\u001b[0m\u001b[0;34m(\u001b[0m\u001b[0mword_to_ix\u001b[0m\u001b[0;34m)\u001b[0m\u001b[0;34m,\u001b[0m \u001b[0mlen\u001b[0m\u001b[0;34m(\u001b[0m\u001b[0mframe_to_ix\u001b[0m\u001b[0;34m)\u001b[0m\u001b[0;34m)\u001b[0m\u001b[0;34m\u001b[0m\u001b[0m\n\u001b[1;32m      2\u001b[0m \u001b[0;32mif\u001b[0m \u001b[0musingGPU\u001b[0m\u001b[0;34m:\u001b[0m\u001b[0;34m\u001b[0m\u001b[0m\n\u001b[0;32m----> 3\u001b[0;31m     \u001b[0mmodel\u001b[0m\u001b[0;34m.\u001b[0m\u001b[0mcuda\u001b[0m\u001b[0;34m(\u001b[0m\u001b[0;34m)\u001b[0m\u001b[0;34m\u001b[0m\u001b[0m\n\u001b[0m\u001b[1;32m      4\u001b[0m \u001b[0;32melse\u001b[0m\u001b[0;34m:\u001b[0m\u001b[0;34m\u001b[0m\u001b[0m\n\u001b[1;32m      5\u001b[0m     \u001b[0;32mpass\u001b[0m\u001b[0;34m\u001b[0m\u001b[0m\n",
      "\u001b[0;32m/usr/local/lib/python3.6/dist-packages/torch/nn/modules/module.py\u001b[0m in \u001b[0;36mcuda\u001b[0;34m(self, device)\u001b[0m\n\u001b[1;32m    256\u001b[0m             \u001b[0mModule\u001b[0m\u001b[0;34m:\u001b[0m \u001b[0mself\u001b[0m\u001b[0;34m\u001b[0m\u001b[0m\n\u001b[1;32m    257\u001b[0m         \"\"\"\n\u001b[0;32m--> 258\u001b[0;31m         \u001b[0;32mreturn\u001b[0m \u001b[0mself\u001b[0m\u001b[0;34m.\u001b[0m\u001b[0m_apply\u001b[0m\u001b[0;34m(\u001b[0m\u001b[0;32mlambda\u001b[0m \u001b[0mt\u001b[0m\u001b[0;34m:\u001b[0m \u001b[0mt\u001b[0m\u001b[0;34m.\u001b[0m\u001b[0mcuda\u001b[0m\u001b[0;34m(\u001b[0m\u001b[0mdevice\u001b[0m\u001b[0;34m)\u001b[0m\u001b[0;34m)\u001b[0m\u001b[0;34m\u001b[0m\u001b[0m\n\u001b[0m\u001b[1;32m    259\u001b[0m \u001b[0;34m\u001b[0m\u001b[0m\n\u001b[1;32m    260\u001b[0m     \u001b[0;32mdef\u001b[0m \u001b[0mcpu\u001b[0m\u001b[0;34m(\u001b[0m\u001b[0mself\u001b[0m\u001b[0;34m)\u001b[0m\u001b[0;34m:\u001b[0m\u001b[0;34m\u001b[0m\u001b[0m\n",
      "\u001b[0;32m/usr/local/lib/python3.6/dist-packages/torch/nn/modules/module.py\u001b[0m in \u001b[0;36m_apply\u001b[0;34m(self, fn)\u001b[0m\n\u001b[1;32m    183\u001b[0m     \u001b[0;32mdef\u001b[0m \u001b[0m_apply\u001b[0m\u001b[0;34m(\u001b[0m\u001b[0mself\u001b[0m\u001b[0;34m,\u001b[0m \u001b[0mfn\u001b[0m\u001b[0;34m)\u001b[0m\u001b[0;34m:\u001b[0m\u001b[0;34m\u001b[0m\u001b[0m\n\u001b[1;32m    184\u001b[0m         \u001b[0;32mfor\u001b[0m \u001b[0mmodule\u001b[0m \u001b[0;32min\u001b[0m \u001b[0mself\u001b[0m\u001b[0;34m.\u001b[0m\u001b[0mchildren\u001b[0m\u001b[0;34m(\u001b[0m\u001b[0;34m)\u001b[0m\u001b[0;34m:\u001b[0m\u001b[0;34m\u001b[0m\u001b[0m\n\u001b[0;32m--> 185\u001b[0;31m             \u001b[0mmodule\u001b[0m\u001b[0;34m.\u001b[0m\u001b[0m_apply\u001b[0m\u001b[0;34m(\u001b[0m\u001b[0mfn\u001b[0m\u001b[0;34m)\u001b[0m\u001b[0;34m\u001b[0m\u001b[0m\n\u001b[0m\u001b[1;32m    186\u001b[0m \u001b[0;34m\u001b[0m\u001b[0m\n\u001b[1;32m    187\u001b[0m         \u001b[0;32mfor\u001b[0m \u001b[0mparam\u001b[0m \u001b[0;32min\u001b[0m \u001b[0mself\u001b[0m\u001b[0;34m.\u001b[0m\u001b[0m_parameters\u001b[0m\u001b[0;34m.\u001b[0m\u001b[0mvalues\u001b[0m\u001b[0;34m(\u001b[0m\u001b[0;34m)\u001b[0m\u001b[0;34m:\u001b[0m\u001b[0;34m\u001b[0m\u001b[0m\n",
      "\u001b[0;32m/usr/local/lib/python3.6/dist-packages/torch/nn/modules/module.py\u001b[0m in \u001b[0;36m_apply\u001b[0;34m(self, fn)\u001b[0m\n\u001b[1;32m    189\u001b[0m                 \u001b[0;31m# Tensors stored in modules are graph leaves, and we don't\u001b[0m\u001b[0;34m\u001b[0m\u001b[0;34m\u001b[0m\u001b[0m\n\u001b[1;32m    190\u001b[0m                 \u001b[0;31m# want to create copy nodes, so we have to unpack the data.\u001b[0m\u001b[0;34m\u001b[0m\u001b[0;34m\u001b[0m\u001b[0m\n\u001b[0;32m--> 191\u001b[0;31m                 \u001b[0mparam\u001b[0m\u001b[0;34m.\u001b[0m\u001b[0mdata\u001b[0m \u001b[0;34m=\u001b[0m \u001b[0mfn\u001b[0m\u001b[0;34m(\u001b[0m\u001b[0mparam\u001b[0m\u001b[0;34m.\u001b[0m\u001b[0mdata\u001b[0m\u001b[0;34m)\u001b[0m\u001b[0;34m\u001b[0m\u001b[0m\n\u001b[0m\u001b[1;32m    192\u001b[0m                 \u001b[0;32mif\u001b[0m \u001b[0mparam\u001b[0m\u001b[0;34m.\u001b[0m\u001b[0m_grad\u001b[0m \u001b[0;32mis\u001b[0m \u001b[0;32mnot\u001b[0m \u001b[0;32mNone\u001b[0m\u001b[0;34m:\u001b[0m\u001b[0;34m\u001b[0m\u001b[0m\n\u001b[1;32m    193\u001b[0m                     \u001b[0mparam\u001b[0m\u001b[0;34m.\u001b[0m\u001b[0m_grad\u001b[0m\u001b[0;34m.\u001b[0m\u001b[0mdata\u001b[0m \u001b[0;34m=\u001b[0m \u001b[0mfn\u001b[0m\u001b[0;34m(\u001b[0m\u001b[0mparam\u001b[0m\u001b[0;34m.\u001b[0m\u001b[0m_grad\u001b[0m\u001b[0;34m.\u001b[0m\u001b[0mdata\u001b[0m\u001b[0;34m)\u001b[0m\u001b[0;34m\u001b[0m\u001b[0m\n",
      "\u001b[0;32m/usr/local/lib/python3.6/dist-packages/torch/nn/modules/module.py\u001b[0m in \u001b[0;36m<lambda>\u001b[0;34m(t)\u001b[0m\n\u001b[1;32m    256\u001b[0m             \u001b[0mModule\u001b[0m\u001b[0;34m:\u001b[0m \u001b[0mself\u001b[0m\u001b[0;34m\u001b[0m\u001b[0m\n\u001b[1;32m    257\u001b[0m         \"\"\"\n\u001b[0;32m--> 258\u001b[0;31m         \u001b[0;32mreturn\u001b[0m \u001b[0mself\u001b[0m\u001b[0;34m.\u001b[0m\u001b[0m_apply\u001b[0m\u001b[0;34m(\u001b[0m\u001b[0;32mlambda\u001b[0m \u001b[0mt\u001b[0m\u001b[0;34m:\u001b[0m \u001b[0mt\u001b[0m\u001b[0;34m.\u001b[0m\u001b[0mcuda\u001b[0m\u001b[0;34m(\u001b[0m\u001b[0mdevice\u001b[0m\u001b[0;34m)\u001b[0m\u001b[0;34m)\u001b[0m\u001b[0;34m\u001b[0m\u001b[0m\n\u001b[0m\u001b[1;32m    259\u001b[0m \u001b[0;34m\u001b[0m\u001b[0m\n\u001b[1;32m    260\u001b[0m     \u001b[0;32mdef\u001b[0m \u001b[0mcpu\u001b[0m\u001b[0;34m(\u001b[0m\u001b[0mself\u001b[0m\u001b[0;34m)\u001b[0m\u001b[0;34m:\u001b[0m\u001b[0;34m\u001b[0m\u001b[0m\n",
      "\u001b[0;31mRuntimeError\u001b[0m: CUDA error: an illegal memory access was encountered"
     ]
    }
   ],
   "source": [
    "model = LSTMTagger(len(word_to_ix), len(frame_to_ix))\n",
    "if usingGPU:\n",
    "    model.cuda()\n",
    "else:\n",
    "    pass\n",
    "\n",
    "loss_function = nn.NLLLoss()\n",
    "optimizer = optim.SGD(model.parameters(), lr=learning_rate)\n",
    "\n",
    "total_step = len(training_data)\n",
    "for epoch in range(NUM_EPOCHS):\n",
    "    n = 0\n",
    "    for tokens in training_data:\n",
    "        sentence, pos, frame = prepare_sentence(tokens)\n",
    "        targetpositions = get_targetpositions(tokens)\n",
    "        model.zero_grad()\n",
    "        model.hidden = model.init_hidden()\n",
    "        sentence_in = prepare_sequence(sentence, word_to_ix)\n",
    "        frames = prepare_frame_sequence(frame, frame_to_ix)\n",
    "        tag_scores = model(sentence_in, targetpositions)\n",
    "        loss = loss_function(tag_scores, frames)\n",
    "        loss.backward(retain_graph=True)\n",
    "        optimizer.step()\n",
    "        \n",
    "        n = n+1\n",
    "        if n % 10 == 0:\n",
    "            print('Epoch [{}/{}], Step [{}/{}], Loss: {:.4f}' \n",
    "                   .format(epoch+1, NUM_EPOCHS, n, total_step, loss.item()))\n",
    "            \n",
    "torch.save(model, model_path)\n",
    "        \n",
    "with torch.no_grad():\n",
    "    sentence, pos, frame = prepare_sentence(training_data[0])\n",
    "    targetpositions = get_targetpositions(training_data[0])\n",
    "    inputs = prepare_sequence(sentence, word_to_ix)\n",
    "    tag_scores = model(inputs,targetpositions)\n",
    "    print('after')\n",
    "    print(tag_scores)\n",
    "    print('\\n')\n",
    "    \n",
    "print('your model is saved:', model_path)\n",
    "print('time spent:', time.time()-start_time)"
   ]
  },
  {
   "cell_type": "code",
   "execution_count": null,
   "metadata": {},
   "outputs": [],
   "source": []
  }
 ],
 "metadata": {
  "kernelspec": {
   "display_name": "Python 3",
   "language": "python",
   "name": "python3"
  },
  "language_info": {
   "codemirror_mode": {
    "name": "ipython",
    "version": 3
   },
   "file_extension": ".py",
   "mimetype": "text/x-python",
   "name": "python",
   "nbconvert_exporter": "python",
   "pygments_lexer": "ipython3",
   "version": "3.6.5"
  }
 },
 "nbformat": 4,
 "nbformat_minor": 2
}
