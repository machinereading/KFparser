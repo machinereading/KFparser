{
 "cells": [
  {
   "cell_type": "code",
   "execution_count": 1,
   "metadata": {
    "collapsed": false,
    "deletable": true,
    "editable": true
   },
   "outputs": [],
   "source": [
    "import json\n",
    "import etri\n",
    "import sys\n",
    "from datetime import datetime\n",
    "import time\n",
    "from koreanframenet import kfn\n",
    "from optparse import OptionParser"
   ]
  },
  {
   "cell_type": "code",
   "execution_count": 32,
   "metadata": {
    "collapsed": false,
    "deletable": true,
    "editable": true
   },
   "outputs": [],
   "source": [
    "import targetid\n",
    "import frameid\n",
    "import argid\n",
    "import graphGeneration"
   ]
  },
  {
   "cell_type": "code",
   "execution_count": 3,
   "metadata": {
    "collapsed": false,
    "deletable": true,
    "editable": true
   },
   "outputs": [
    {
     "name": "stderr",
     "output_type": "stream",
     "text": [
      "\n",
      "PARSER SETTINGS\n",
      "_____________________\n",
      "Target Identification     \tbaseline\n",
      "Frame Identification      \tfrequent\n",
      "Argument Identification   \trulebased\n",
      "RESULT WILL BE SAVED TO\t./tmp/2018.7.10.1531197262.7673354\n"
     ]
    }
   ],
   "source": [
    "# options\n",
    "\n",
    "now = datetime.now()\n",
    "resultfname = './tmp/'+str(now.year)+'.'+str(now.month)+'.'+str(now.day)+'.'+str(time.time())\n",
    "\n",
    "optpr = OptionParser()\n",
    "optpr.add_option(\"--mode\", dest='mode', type='choice', choices=['parsing', 'test'], default='parsing')\n",
    "optpr.add_option(\"--targetid\", dest='targetid', type='choice', choices=['baseline'], default='baseline')\n",
    "optpr.add_option(\"--frameid\", dest='frameid', type='choice', choices=['baseline'], default='baseline')\n",
    "optpr.add_option(\"--argid\", dest='argid', type='choice', choices=['baseline'], default='baseline')\n",
    "optpr.add_option(\"--result\", dest='resultfile', help=\"Saved result file\", metavar=\"FILE\", default=resultfname)\n",
    "optpr.add_option(\"--input\", dest='input', help=\"input a sentence\", type=\"string\", default=resultfname)\n",
    "# (options, args) = optpr.parse_args()\n",
    "\n",
    "optpr.mode = 'parsing'\n",
    "optpr.targetid = 'baseline'\n",
    "optpr.frameid = 'frequent'\n",
    "optpr.argid = 'rulebased'\n",
    "\n",
    "#print options\n",
    "#sys.stderr.write(\"\\nCOMMAND: \"+' '.join(sys.argv) + '\\n')\n",
    "sys.stderr.write(\"\\nPARSER SETTINGS\\n_____________________\\n\")\n",
    "sys.stderr.write(\"Target Identification     \\t\" + str(optpr.targetid) + '\\n')\n",
    "sys.stderr.write(\"Frame Identification      \\t\" + str(optpr.frameid) + '\\n')\n",
    "sys.stderr.write(\"Argument Identification   \\t\" + str(optpr.argid) + '\\n')\n",
    "if optpr.mode in ['parsing']:\n",
    "    sys.stderr.write(\"RESULT WILL BE SAVED TO\\t%s\\n\" %resultfname)"
   ]
  },
  {
   "cell_type": "code",
   "execution_count": 4,
   "metadata": {
    "collapsed": false,
    "deletable": true,
    "editable": true
   },
   "outputs": [],
   "source": [
    "# parset options\n",
    "\n",
    "target_identifier = targetid.target_identifier\n",
    "frame_identifier = frameid.frame_identifier\n",
    "arg_identifier = argid.arg_identifier"
   ]
  },
  {
   "cell_type": "code",
   "execution_count": 30,
   "metadata": {
    "collapsed": true,
    "deletable": true,
    "editable": true
   },
   "outputs": [],
   "source": [
    "def frameparsing(sent):\n",
    "    conll = etri.getETRI_CoNLL2009(sent)\n",
    "    conll_target = target_identifier(conll, optpr.targetid)\n",
    "    conll_frame = frame_identifier(conll_target, optpr.frameid)\n",
    "    conll_arg = arg_identifier(conll_frame, optpr.argid)\n",
    "    \n",
    "    return conll_arg"
   ]
  },
  {
   "cell_type": "code",
   "execution_count": 33,
   "metadata": {
    "collapsed": false,
    "deletable": true,
    "editable": true
   },
   "outputs": [
    {
     "name": "stdout",
     "output_type": "stream",
     "text": [
      "Evaluating:  1\n",
      "('frame:Gizmo', 'frdf:lu', '기계.n')\n",
      "('frame:Studying', 'frdf:lu', '학습.n')\n",
      "('frame:Fields', 'frdf:lu', '분야.n')\n",
      "('frame:Fields', 'fe:Practitioner', '인공 지능의')\n",
      "('frame:Gizmo', 'frdf:lu', '기계.n')\n",
      "('frame:Information', 'frdf:lu', '정보.n')\n",
      "('frame:Information', 'fe:cognizer', '기계가')\n",
      "('frame:Intentionally_act', 'frdf:lu', '학습하다.v')\n",
      "('frame:Artifact', 'frdf:lu', '기술.n')\n",
      "('frame:Artifact', 'fe:x', '기술을')\n",
      "('frame:Artifact', 'fe:use', '기계가 정보를 학습하도록 하는 알고리즘과')\n",
      "('frame:Cause_to_make_progress', 'frdf:lu', '개발하다.v')\n",
      "('frame:Cause_to_make_progress', 'fe:project', '기술을')\n",
      "('frame:Fields', 'frdf:lu', '분야.n')\n",
      "('frame:Statement', 'frdf:lu', '말하다.v')\n",
      "('frame:Statement', 'fe:manner', '기계 학습(機械學習) 또는 머신 러닝(영어: machine learning)은 인공 지능의 한 분야로,')\n"
     ]
    }
   ],
   "source": [
    "# parsing\n",
    "\n",
    "def test():\n",
    "    if optpr.mode == 'parsing':\n",
    "        sent = optpr.input = \"기계 학습(機械學習) 또는 머신 러닝(영어: machine learning)은 인공 지능의 한 분야로, 기계가 정보를 학습하도록 하는 알고리즘과 기술을 개발하는 분야를 말한다.\"\n",
    "        parsed = frameparsing(sent)\n",
    "        graph = graphGeneration.conll2graph(parsed)\n",
    "        for triple in graph:\n",
    "            print(triple)\n",
    "test()"
   ]
  },
  {
   "cell_type": "code",
   "execution_count": null,
   "metadata": {
    "collapsed": true
   },
   "outputs": [],
   "source": []
  }
 ],
 "metadata": {
  "kernelspec": {
   "display_name": "Python 3",
   "language": "python",
   "name": "python3"
  },
  "language_info": {
   "codemirror_mode": {
    "name": "ipython",
    "version": 3
   },
   "file_extension": ".py",
   "mimetype": "text/x-python",
   "name": "python",
   "nbconvert_exporter": "python",
   "pygments_lexer": "ipython3",
   "version": "3.5.2"
  }
 },
 "nbformat": 4,
 "nbformat_minor": 2
}
