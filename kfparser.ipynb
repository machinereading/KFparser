{
 "cells": [
  {
   "cell_type": "code",
   "execution_count": 1,
   "metadata": {},
   "outputs": [],
   "source": [
    "import json\n",
    "import etri\n",
    "import sys\n",
    "from datetime import datetime\n",
    "import time\n",
    "from koreanframenet import kfn\n",
    "from optparse import OptionParser"
   ]
  },
  {
   "cell_type": "code",
   "execution_count": 3,
   "metadata": {},
   "outputs": [],
   "source": [
    "import targetid\n",
    "import frameid\n",
    "import argid\n",
    "import graphGeneration"
   ]
  },
  {
   "cell_type": "code",
   "execution_count": 4,
   "metadata": {},
   "outputs": [
    {
     "name": "stderr",
     "output_type": "stream",
     "text": [
      "\n",
      "PARSER SETTINGS\n",
      "_____________________\n",
      "Target Identification     \tbaseline\n",
      "Frame Identification      \tfrequent\n",
      "Argument Identification   \tsuffix_only\n",
      "RESULT WILL BE SAVED TO\t./tmp/2018.7.11.1531300565.3171601\n"
     ]
    }
   ],
   "source": [
    "# options\n",
    "\n",
    "now = datetime.now()\n",
    "resultfname = './tmp/'+str(now.year)+'.'+str(now.month)+'.'+str(now.day)+'.'+str(time.time())\n",
    "\n",
    "optpr = OptionParser()\n",
    "optpr.add_option(\"--mode\", dest='mode', type='choice', choices=['parsing', 'test'], default='parsing')\n",
    "optpr.add_option(\"--targetid\", dest='targetid', type='choice', choices=['baseline'], default='baseline')\n",
    "optpr.add_option(\"--frameid\", dest='frameid', type='choice', choices=['baseline'], default='baseline')\n",
    "optpr.add_option(\"--argid\", dest='argid', type='choice', choices=['baseline'], default='baseline')\n",
    "optpr.add_option(\"--result\", dest='resultfile', help=\"Saved result file\", metavar=\"FILE\", default=resultfname)\n",
    "optpr.add_option(\"--input\", dest='input', help=\"input a sentence\", type=\"string\", default=resultfname)\n",
    "# (options, args) = optpr.parse_args()\n",
    "\n",
    "optpr.mode = 'parsing'\n",
    "optpr.targetid = 'baseline'\n",
    "optpr.frameid = 'frequent'\n",
    "optpr.argid = 'rulebased'\n",
    "optpr.argid = 'suffix_only'\n",
    "\n",
    "#print options\n",
    "#sys.stderr.write(\"\\nCOMMAND: \"+' '.join(sys.argv) + '\\n')\n",
    "sys.stderr.write(\"\\nPARSER SETTINGS\\n_____________________\\n\")\n",
    "sys.stderr.write(\"Target Identification     \\t\" + str(optpr.targetid) + '\\n')\n",
    "sys.stderr.write(\"Frame Identification      \\t\" + str(optpr.frameid) + '\\n')\n",
    "sys.stderr.write(\"Argument Identification   \\t\" + str(optpr.argid) + '\\n')\n",
    "if optpr.mode in ['parsing']:\n",
    "    sys.stderr.write(\"RESULT WILL BE SAVED TO\\t%s\\n\" %resultfname)"
   ]
  },
  {
   "cell_type": "code",
   "execution_count": 5,
   "metadata": {},
   "outputs": [],
   "source": [
    "# parset options\n",
    "\n",
    "target_identifier = targetid.target_identifier\n",
    "frame_identifier = frameid.frame_identifier\n",
    "arg_identifier = argid.arg_identifier"
   ]
  },
  {
   "cell_type": "code",
   "execution_count": 6,
   "metadata": {},
   "outputs": [],
   "source": [
    "def frameparsing(sent):\n",
    "    conll = etri.getETRI_CoNLL2009(sent)\n",
    "    conll_target = target_identifier(conll, optpr.targetid)\n",
    "    #print(conll_target)\n",
    "    conll_frame = frame_identifier(conll_target, optpr.frameid)\n",
    "    conll_arg = arg_identifier(conll_frame, optpr.argid)\n",
    "    \n",
    "    return conll_arg"
   ]
  },
  {
   "cell_type": "code",
   "execution_count": 12,
   "metadata": {},
   "outputs": [],
   "source": [
    "# parsing\n",
    "\n",
    "def test():\n",
    "    if optpr.mode == 'parsing':\n",
    "        sent = optpr.input = \"기계 학습(機械學習) 또는 머신 러닝(영어: machine learning)은 인공 지능의 한 분야로, 기계가 정보를 학습하도록 하는 알고리즘과 기술을 개발하는 분야를 말한다.\"\n",
    "        parsed = frameparsing(sent)\n",
    "\n",
    "        graph = graphGeneration.conll2graph(parsed)\n",
    "        for triple in graph:\n",
    "            print(triple)\n",
    "#test()"
   ]
  },
  {
   "cell_type": "code",
   "execution_count": null,
   "metadata": {},
   "outputs": [
    {
     "name": "stdout",
     "output_type": "stream",
     "text": [
      "CNN 문장수: 32928\n"
     ]
    }
   ],
   "source": [
    "def cnn_test():\n",
    "    with open('/disk_4/cnndata/result_sample_corpus.json','r') as f:\n",
    "        cnn = json.load(f)\n",
    "    sentences = []\n",
    "    for i in cnn:\n",
    "        sentences.append(i['ko_sentence'])\n",
    "    print('CNN 문장수:', len(sentences))\n",
    "    s_f_count, s_fe_count = 0,0\n",
    "    f_count, fe_count = 0,0\n",
    "    \n",
    "    cnn_result = open('./tmp/cnnresult.txt','w')\n",
    "    for sent in sentences:\n",
    "        cnn_result.write(sent+'\\n')\n",
    "        try:\n",
    "            parsed = frameparsing(sent)\n",
    "            graph = graphGeneration.conll2graph(parsed)\n",
    "            if len(graph) > 0:\n",
    "                s_f_count += 1\n",
    "                for t in graph:\n",
    "                    cnn_result.write(str(t)+'\\n')\n",
    "                    if t[1] != 'frdf:lu':\n",
    "                        s_fe_count += 1\n",
    "                        break\n",
    "                    if t[1] != 'frdf:lu':\n",
    "                        fe_count += 1\n",
    "                    else:\n",
    "                        f_count += 1\n",
    "        except KeyboardInterrupt:\n",
    "            raise\n",
    "        except:\n",
    "            pass\n",
    "        cnn_result.write('\\n')\n",
    "\n",
    "    print(s_f_count, s_fe_count, f_count, fe_count)\n",
    "        \n",
    "#cnn_test()"
   ]
  },
  {
   "cell_type": "code",
   "execution_count": 16,
   "metadata": {},
   "outputs": [
    {
     "name": "stdout",
     "output_type": "stream",
     "text": [
      "### loading data now...\n"
     ]
    },
    {
     "ename": "AttributeError",
     "evalue": "module 'preprocessor' has no attribute 'data_stat'",
     "output_type": "error",
     "traceback": [
      "\u001b[0;31m---------------------------------------------------------------------------\u001b[0m",
      "\u001b[0;31mAttributeError\u001b[0m                            Traceback (most recent call last)",
      "\u001b[0;32m<ipython-input-16-1fe7bd9888a1>\u001b[0m in \u001b[0;36m<module>\u001b[0;34m()\u001b[0m\n\u001b[1;32m      1\u001b[0m \u001b[0;32mimport\u001b[0m \u001b[0mpreprocessor\u001b[0m\u001b[0;34m\u001b[0m\u001b[0m\n\u001b[1;32m      2\u001b[0m \u001b[0mtrn\u001b[0m\u001b[0;34m,\u001b[0m \u001b[0mtst\u001b[0m\u001b[0;34m,\u001b[0m \u001b[0mdev\u001b[0m\u001b[0;34m,\u001b[0m \u001b[0mexemplar\u001b[0m \u001b[0;34m=\u001b[0m \u001b[0mpreprocessor\u001b[0m\u001b[0;34m.\u001b[0m\u001b[0mload_data\u001b[0m\u001b[0;34m(\u001b[0m\u001b[0;34m)\u001b[0m\u001b[0;34m\u001b[0m\u001b[0m\n\u001b[0;32m----> 3\u001b[0;31m \u001b[0mpreprocessor\u001b[0m\u001b[0;34m.\u001b[0m\u001b[0mdata_stat\u001b[0m\u001b[0;34m(\u001b[0m\u001b[0;34m)\u001b[0m\u001b[0;34m\u001b[0m\u001b[0m\n\u001b[0m",
      "\u001b[0;31mAttributeError\u001b[0m: module 'preprocessor' has no attribute 'data_stat'"
     ]
    }
   ],
   "source": [
    "import preprocessor\n",
    "trn, tst, dev, exemplar = preprocessor.load_data()\n",
    "preprocessor.data_stat()"
   ]
  }
 ],
 "metadata": {
  "kernelspec": {
   "display_name": "Python 3",
   "language": "python",
   "name": "python3"
  },
  "language_info": {
   "codemirror_mode": {
    "name": "ipython",
    "version": 3
   },
   "file_extension": ".py",
   "mimetype": "text/x-python",
   "name": "python",
   "nbconvert_exporter": "python",
   "pygments_lexer": "ipython3",
   "version": "3.6.5"
  }
 },
 "nbformat": 4,
 "nbformat_minor": 2
}
