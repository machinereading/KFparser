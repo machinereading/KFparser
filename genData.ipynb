{
 "cells": [
  {
   "cell_type": "code",
   "execution_count": 2,
   "metadata": {
    "collapsed": true
   },
   "outputs": [],
   "source": [
    "from koreanframenet import kfn\n",
    "import json\n",
    "import etri"
   ]
  },
  {
   "cell_type": "code",
   "execution_count": 3,
   "metadata": {
    "collapsed": false
   },
   "outputs": [
    {
     "name": "stdout",
     "output_type": "stream",
     "text": [
      "### load KFN ###\n"
     ]
    }
   ],
   "source": [
    "def load_kfn():\n",
    "    with open('./koreanframenet/resource/KFN_lus.json', 'r') as f:\n",
    "        kolu = json.load(f)\n",
    "    with open('./koreanframenet/resource/KFN_annotations.json','r') as f:\n",
    "        koanno = json.load(f)\n",
    "    print('### load KFN ###')\n",
    "    return kolu, koanno\n",
    "kolu, koanno = load_kfn()"
   ]
  },
  {
   "cell_type": "code",
   "execution_count": null,
   "metadata": {
    "collapsed": true
   },
   "outputs": [],
   "source": [
    "def gen_lu_list():\n",
    "    lus_in_annos = []\n",
    "    for i in koanno:\n",
    "        annos = i['frameAnnotation']['ko_annotations']\n",
    "        sent_id = i['text']['sent_id']\n",
    "        print(sent_id)\n",
    "        anno_ids = []\n",
    "        for a in annos:\n",
    "            anno_ids.append(a['ko_annotation_id'])\n",
    "\n",
    "        for aid in anno_ids:\n",
    "            for lu in kolu:\n",
    "                if aid in lu['ko_annotation_id']:\n",
    "                    lus_in_annos.append(lu['lu'])\n",
    "    lus_in_annos = list(set(lus_in_annos))\n",
    "    \n",
    "    result = []\n",
    "    for lu_in_annos in lus_in_annos:\n",
    "        for i in kolu:\n",
    "            if lu_in_annos == i['lu']:\n",
    "                count = len(i['ko_annotation_id'])\n",
    "                if count > 1:\n",
    "                    result.append(lu_in_annos)                    \n",
    "    print(len(result))\n",
    "    with open('./data/ambi_lu_in_annos.json','w') as f:\n",
    "        json.dump(result, f, ensure_ascii=False, indent=4)\n",
    "#gen_lu_list()"
   ]
  },
  {
   "cell_type": "code",
   "execution_count": 8,
   "metadata": {
    "collapsed": false
   },
   "outputs": [
    {
     "ename": "KeyboardInterrupt",
     "evalue": "",
     "output_type": "error",
     "traceback": [
      "\u001b[0;31m---------------------------------------------------------------------------\u001b[0m",
      "\u001b[0;31mKeyboardInterrupt\u001b[0m                         Traceback (most recent call last)",
      "\u001b[0;32m<ipython-input-8-548750e59ee5>\u001b[0m in \u001b[0;36m<module>\u001b[0;34m()\u001b[0m\n\u001b[1;32m     54\u001b[0m                 \u001b[0;32mpass\u001b[0m\u001b[0;34m\u001b[0m\u001b[0m\n\u001b[1;32m     55\u001b[0m     \u001b[0mprint\u001b[0m\u001b[0;34m(\u001b[0m\u001b[0mlen\u001b[0m\u001b[0;34m(\u001b[0m\u001b[0mresult\u001b[0m\u001b[0;34m)\u001b[0m\u001b[0;34m)\u001b[0m\u001b[0;34m\u001b[0m\u001b[0m\n\u001b[0;32m---> 56\u001b[0;31m \u001b[0mget_koanno\u001b[0m\u001b[0;34m(\u001b[0m\u001b[0;34m)\u001b[0m\u001b[0;34m\u001b[0m\u001b[0m\n\u001b[0m",
      "\u001b[0;32m<ipython-input-8-548750e59ee5>\u001b[0m in \u001b[0;36mget_koanno\u001b[0;34m()\u001b[0m\n\u001b[1;32m     40\u001b[0m             \u001b[0;32mif\u001b[0m \u001b[0mambi_lu\u001b[0m \u001b[0;34m==\u001b[0m \u001b[0mi\u001b[0m\u001b[0;34m[\u001b[0m\u001b[0;34m'lu'\u001b[0m\u001b[0;34m]\u001b[0m\u001b[0;34m:\u001b[0m\u001b[0;34m\u001b[0m\u001b[0m\n\u001b[1;32m     41\u001b[0m                 \u001b[0mluid\u001b[0m \u001b[0;34m=\u001b[0m \u001b[0mi\u001b[0m\u001b[0;34m[\u001b[0m\u001b[0;34m'lu_id'\u001b[0m\u001b[0;34m]\u001b[0m\u001b[0;34m\u001b[0m\u001b[0m\n\u001b[0;32m---> 42\u001b[0;31m                 \u001b[0mannos\u001b[0m \u001b[0;34m=\u001b[0m \u001b[0mkfn\u001b[0m\u001b[0;34m.\u001b[0m\u001b[0mannotation\u001b[0m\u001b[0;34m(\u001b[0m\u001b[0mluid\u001b[0m\u001b[0;34m)\u001b[0m\u001b[0;34m\u001b[0m\u001b[0m\n\u001b[0m\u001b[1;32m     43\u001b[0m                 \u001b[0;32mfor\u001b[0m \u001b[0ma\u001b[0m \u001b[0;32min\u001b[0m \u001b[0mannos\u001b[0m\u001b[0;34m:\u001b[0m\u001b[0;34m\u001b[0m\u001b[0m\n\u001b[1;32m     44\u001b[0m                     \u001b[0manno_id\u001b[0m \u001b[0;34m=\u001b[0m \u001b[0ma\u001b[0m\u001b[0;34m[\u001b[0m\u001b[0;34m'ko_annotation_id'\u001b[0m\u001b[0;34m]\u001b[0m\u001b[0;34m\u001b[0m\u001b[0m\n",
      "\u001b[0;32m/disk_4/KFparser/koreanframenet/kfn.py\u001b[0m in \u001b[0;36mannotation\u001b[0;34m(lu_id)\u001b[0m\n\u001b[1;32m     90\u001b[0m             \u001b[0;32mfor\u001b[0m \u001b[0ms_anno\u001b[0m \u001b[0;32min\u001b[0m \u001b[0ms_annos\u001b[0m\u001b[0;34m:\u001b[0m\u001b[0;34m\u001b[0m\u001b[0m\n\u001b[1;32m     91\u001b[0m                 \u001b[0;32mfor\u001b[0m \u001b[0mk\u001b[0m \u001b[0;32min\u001b[0m \u001b[0ms_anno\u001b[0m\u001b[0;34m[\u001b[0m\u001b[0;34m'annotations'\u001b[0m\u001b[0;34m]\u001b[0m\u001b[0;34m:\u001b[0m\u001b[0;34m\u001b[0m\u001b[0m\n\u001b[0;32m---> 92\u001b[0;31m                     \u001b[0;32mif\u001b[0m \u001b[0mi\u001b[0m \u001b[0;34m==\u001b[0m \u001b[0mk\u001b[0m\u001b[0;34m[\u001b[0m\u001b[0;34m'ko_annotation_id'\u001b[0m\u001b[0;34m]\u001b[0m\u001b[0;34m:\u001b[0m\u001b[0;34m\u001b[0m\u001b[0m\n\u001b[0m\u001b[1;32m     93\u001b[0m                         \u001b[0;32mfor\u001b[0m \u001b[0md\u001b[0m \u001b[0;32min\u001b[0m \u001b[0mk\u001b[0m\u001b[0;34m[\u001b[0m\u001b[0;34m'denotations'\u001b[0m\u001b[0;34m]\u001b[0m\u001b[0;34m:\u001b[0m\u001b[0;34m\u001b[0m\u001b[0m\n\u001b[1;32m     94\u001b[0m                             \u001b[0;32mif\u001b[0m \u001b[0md\u001b[0m\u001b[0;34m[\u001b[0m\u001b[0;34m'span'\u001b[0m\u001b[0;34m]\u001b[0m\u001b[0;34m[\u001b[0m\u001b[0;34m'begin'\u001b[0m\u001b[0;34m]\u001b[0m \u001b[0;34m!=\u001b[0m \u001b[0;34m-\u001b[0m\u001b[0;36m1\u001b[0m\u001b[0;34m:\u001b[0m\u001b[0;34m\u001b[0m\u001b[0m\n",
      "\u001b[0;31mKeyboardInterrupt\u001b[0m: "
     ]
    }
   ],
   "source": [
    "with open('./data/fes_of_each_lus.json','r') as f:\n",
    "    fes_of_lu = json.load(f)\n",
    "\n",
    "def get_fes(deno):\n",
    "    fes = []\n",
    "    for d in deno:\n",
    "        if d['obj'] != 'target':\n",
    "            fe = d['obj'].lower()\n",
    "            fes.append(fe)\n",
    "    fes = list(set(fes))\n",
    "    return fes\n",
    "\n",
    "def double_check(luid, fes):\n",
    "    for i in fes_of_lu:\n",
    "        if luid == i['lu_id']:\n",
    "            fe_list = i['fe_list']\n",
    "            for j in fe_list:\n",
    "                j = j.lower()\n",
    "            break\n",
    "    check_list = []\n",
    "    for i in fes:\n",
    "        count = fe_list.count(i)\n",
    "        if count > 1:\n",
    "            check_list.append('t')\n",
    "    if len(check_list) > 0:\n",
    "        if len(check_list) == len(fes):\n",
    "            result = True\n",
    "        else:\n",
    "            result = False\n",
    "    else:\n",
    "        result = False\n",
    "    return result\n",
    "\n",
    "def get_koanno():\n",
    "    with open('./data/ambi_lu_in_annos.json','r') as f:\n",
    "        ambi_lus = json.load(f)\n",
    "    result = []\n",
    "    n =0\n",
    "    for ambi_lu in ambi_lus:\n",
    "        print(n, len(ambi_lus))\n",
    "        for i in kolu:\n",
    "            if ambi_lu == i['lu']:\n",
    "                luid = i['lu_id']\n",
    "                annos = kfn.annotation(luid)\n",
    "                for a in annos:\n",
    "                    anno_id = a['ko_annotation_id']\n",
    "                    if type(anno_id) == int:\n",
    "                        deno = a['denotations']\n",
    "                        fes = get_fes(deno)\n",
    "                        check = double_check(luid, fes)\n",
    "                        if check:\n",
    "                            result.append(anno_id)\n",
    "                            print(anno_id, 'is added', len(result))\n",
    "                            break\n",
    "                        else:\n",
    "                            pass\n",
    "            else:\n",
    "                pass\n",
    "        n += 1\n",
    "    print(len(result))\n",
    "    with open('./data/dummy.json','w') as f:\n",
    "        json.dump(result, f, ensure_ascii=False, indent=4)\n",
    "get_koanno()"
   ]
  }
 ],
 "metadata": {
  "kernelspec": {
   "display_name": "Python 3",
   "language": "python",
   "name": "python3"
  },
  "language_info": {
   "codemirror_mode": {
    "name": "ipython",
    "version": 3
   },
   "file_extension": ".py",
   "mimetype": "text/x-python",
   "name": "python",
   "nbconvert_exporter": "python",
   "pygments_lexer": "ipython3",
   "version": "3.5.2"
  }
 },
 "nbformat": 4,
 "nbformat_minor": 2
}
