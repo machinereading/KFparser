{
 "cells": [
  {
   "cell_type": "code",
   "execution_count": 1,
   "metadata": {
    "collapsed": true,
    "deletable": true,
    "editable": true
   },
   "outputs": [],
   "source": [
    "# input: CoNLL2009-based list (output of preprocessor.py)\n",
    "\n",
    "from koreanframenet import kfn\n",
    "import preprocessor\n",
    "import re"
   ]
  },
  {
   "cell_type": "code",
   "execution_count": 31,
   "metadata": {
    "collapsed": true,
    "deletable": true,
    "editable": true
   },
   "outputs": [],
   "source": [
    "def target_identification_surfaceform(sent_list):\n",
    "    result = []\n",
    "    frame = 'None'\n",
    "    for i in sent_list:\n",
    "        #print(i[0], i[2], i[3])\n",
    "        lu1, lu2 = [],[]\n",
    "        #print(i)\n",
    "        lus =[]\n",
    "        lemma = i[2].split('+')[0]\n",
    "        #lu1 = kfn.lus_by_lemma(lemma)\n",
    "        \n",
    "        surfaceform = i[1]\n",
    "        spc = [',','.','!','?']\n",
    "        if len(surfaceform) > 1:\n",
    "            if surfaceform[-1] in spc:\n",
    "                surfaceform = re.sub('[,.?!]', '', surfaceform)\n",
    "        lu2 = kfn.lus_by_surfaceform(surfaceform)\n",
    "        lus = lu1+lu2\n",
    "        lus = list(set(lus))\n",
    "        #print(lus)\n",
    "        \n",
    "        pos = i[4].split('+')[0]\n",
    "        if pos.startswith('N'):\n",
    "            pos = 'n'\n",
    "        elif pos == 'VV':\n",
    "            pos = 'v'\n",
    "        elif pos == 'VA':\n",
    "            pos = 'a'\n",
    "        else:\n",
    "            pass\n",
    "        lu_candis = []\n",
    "        if len(lus) > 0:\n",
    "            for lc in lus:\n",
    "                lu_pos = lc.split('.')[1]\n",
    "                #print('pos', pos, lu_pos)\n",
    "                if pos == lu_pos:\n",
    "                    lu_candi_list = lc.split('.')[:-1]\n",
    "                    lu_candi = '.'.join(lu_candi_list)\n",
    "                    #print(lu_candi)\n",
    "                    if surfaceform[0] == lu_candi[0]:\n",
    "                        lu_candis.append(lu_candi)\n",
    "        lu_candis = list(set(lu_candis))\n",
    "        if len(lu_candis) > 0:\n",
    "            lu_dict = {}\n",
    "            lu_dict['token_id'] = i[0]\n",
    "            lu_dict['lu'] = lu_candis\n",
    "            lu_dict['lu_with_frame'] = lus\n",
    "            result.append(lu_dict)\n",
    "    return result\n"
   ]
  },
  {
   "cell_type": "code",
   "execution_count": 16,
   "metadata": {
    "collapsed": false,
    "deletable": true,
    "editable": true
   },
   "outputs": [
    {
     "name": "stdout",
     "output_type": "stream",
     "text": [
      "['선언서.n.Statement']\n"
     ]
    }
   ],
   "source": [
    "def dummy():\n",
    "    st = '선언서를'\n",
    "    d = kfn.lus_by_surfaceform(st)\n",
    "    print(d)\n",
    "dummy()\n",
    "    "
   ]
  },
  {
   "cell_type": "code",
   "execution_count": 33,
   "metadata": {
    "collapsed": false,
    "deletable": true,
    "editable": true
   },
   "outputs": [
    {
     "name": "stdout",
     "output_type": "stream",
     "text": [
      "### loading data now...\n",
      "# training_data\n",
      " - number of full-sentences: 14811\n",
      " - number of sentences: 33311 \n",
      "\n",
      "# test_data\n",
      " - number of full-sentences: 1863\n",
      " - number of sentences: 2793 \n",
      "\n",
      "# training_fe (for FE identification)\n",
      " - number of full-sentences: 4248\n",
      " - number of sentences: 14462 \n",
      "\n",
      "0 이란/NNG+은/JX\n",
      "1 화학/NNG\n",
      "2 시설/NNG+과/JC\n",
      "3 과거/NNG\n",
      "4 화학무기/NNG\n",
      "5 비축/NNG+에/JKB\n",
      "6 관하/VV+ㄴ/ETM\n",
      "7 선언서/NNG+를/JKO\n",
      "8 제출하/VV+었/EP+는데/EC+,/SP\n",
      "9 이란/NNG+은/JX\n",
      "10 화학무기/NNG\n",
      "11 금지기구/NNG\n",
      "12 조사관들/NNG+이/JKS\n",
      "13 있/VA+는/ETM\n",
      "14 곳/NNG+에서/JKB\n",
      "15 화학무기/NNG\n",
      "16 생산/NNG\n",
      "17 장비/NNG+를/JKO\n",
      "18 파괴하/VV+었/EP+고/EC+,/SP\n",
      "19 화학/NNG\n",
      "20 산업/NNG\n",
      "21 시설들/NNG+에/JKB\n",
      "22 대하/VV+어/EC\n",
      "23 화학무기/NNG\n",
      "24 금지기구/NNG+의/JKG\n",
      "25 조사/NNG+를/JKO\n",
      "26 수/MM\n",
      "27 차례/NNG\n",
      "28 받/VV+었/EP+다/EF+./SF\n",
      "\n",
      "[{'lu_with_frame': ['화학.n.Substance', '화학.n.Weapon'], 'token_id': '1', 'lu': ['화학.n']}, {'lu_with_frame': ['시설.n.Locale_by_use'], 'token_id': '2', 'lu': ['시설.n']}, {'lu_with_frame': ['과거.n.Relative_time'], 'token_id': '3', 'lu': ['과거.n']}, {'lu_with_frame': ['무기.n.Weapon', '무기.n.Hostile_encounter', '화학.n.Substance'], 'token_id': '4', 'lu': ['화학.n']}, {'lu_with_frame': ['비축.n.Store'], 'token_id': '5', 'lu': ['비축.n']}, {'lu_with_frame': ['관하다.v.Topic'], 'token_id': '6', 'lu': ['관하다.v']}, {'lu_with_frame': ['선언서.n.Statement'], 'token_id': '7', 'lu': ['선언서.n']}, {'lu_with_frame': ['무기.n.Weapon', '무기.n.Hostile_encounter', '화학.n.Substance'], 'token_id': '10', 'lu': ['화학.n']}, {'lu_with_frame': ['조사관들.n.Inspecting', '조사관들.n.Scrutiny'], 'token_id': '12', 'lu': ['조사관들.n']}, {'lu_with_frame': ['있다.a.Possession', '있다.a.Being_located', '있다.a.Existence', '있다.a.Containing'], 'token_id': '13', 'lu': ['있다.a']}, {'lu_with_frame': ['곳.n.Locative_relation', '곳.n.Locale'], 'token_id': '14', 'lu': ['곳.n']}, {'lu_with_frame': ['무기.n.Weapon', '무기.n.Hostile_encounter', '화학.n.Substance'], 'token_id': '15', 'lu': ['화학.n']}, {'lu_with_frame': ['생산.n.Intentionally_create', '생산.n.Manufacturing'], 'token_id': '16', 'lu': ['생산.n']}, {'lu_with_frame': ['장비.n.Supply', '장비.n.Gizmo'], 'token_id': '17', 'lu': ['장비.n']}, {'lu_with_frame': ['파괴하다.v.Destroying'], 'token_id': '18', 'lu': ['파괴하다.v']}, {'lu_with_frame': ['화학.n.Substance', '화학.n.Weapon'], 'token_id': '19', 'lu': ['화학.n']}, {'lu_with_frame': ['산업.n.Manufacturing', '산업.n.Fields'], 'token_id': '20', 'lu': ['산업.n']}, {'lu_with_frame': ['시설.n.Locale_by_use'], 'token_id': '21', 'lu': ['시설.n']}, {'lu_with_frame': ['대하다.v.Topic', '대하다.v.Quantity'], 'token_id': '22', 'lu': ['대하다.v']}, {'lu_with_frame': ['무기.n.Weapon', '무기.n.Hostile_encounter', '화학.n.Substance'], 'token_id': '23', 'lu': ['화학.n']}, {'lu_with_frame': ['조사.n.Inspecting', '조사.n.Scrutiny'], 'token_id': '25', 'lu': ['조사.n']}]\n"
     ]
    }
   ],
   "source": [
    "def test():\n",
    "    data, _, _ = preprocessor.load_data()\n",
    "    sent_list = data[0]\n",
    "    for i in sent_list:\n",
    "        print(i[0], i[2])\n",
    "    print('')\n",
    "    targets = target_identification_surfaceform(sent_list)\n",
    "    print(targets)\n",
    "test()"
   ]
  }
 ],
 "metadata": {
  "kernelspec": {
   "display_name": "Python 3",
   "language": "python",
   "name": "python3"
  },
  "language_info": {
   "codemirror_mode": {
    "name": "ipython",
    "version": 3
   },
   "file_extension": ".py",
   "mimetype": "text/x-python",
   "name": "python",
   "nbconvert_exporter": "python",
   "pygments_lexer": "ipython3",
   "version": "3.5.2"
  }
 },
 "nbformat": 4,
 "nbformat_minor": 2
}
