{
 "cells": [
  {
   "cell_type": "code",
   "execution_count": 1,
   "metadata": {
    "collapsed": false,
    "deletable": true,
    "editable": true
   },
   "outputs": [],
   "source": [
    "import json\n",
    "import re\n",
    "from koreanframenet import kfn\n",
    "import preprocessor"
   ]
  },
  {
   "cell_type": "code",
   "execution_count": 2,
   "metadata": {
    "collapsed": false
   },
   "outputs": [
    {
     "name": "stdout",
     "output_type": "stream",
     "text": [
      "### loading data now...\n",
      "# training_data\n",
      " - number of full-sentences: 14811\n",
      " - number of sentences: 33311 \n",
      "\n",
      "# test_data\n",
      " - number of full-sentences: 1863\n",
      " - number of sentences: 2793 \n",
      "\n",
      "# training_fe (for FE identification)\n",
      " - number of full-sentences: 4248\n",
      " - number of sentences: 14462 \n",
      "\n"
     ]
    }
   ],
   "source": [
    "def load_data():\n",
    "    training, test, training_fe = preprocessor.load_data()\n",
    "    return training, test, training_fe\n",
    "\n",
    "training, test, training_fe = load_data()"
   ]
  },
  {
   "cell_type": "code",
   "execution_count": 3,
   "metadata": {
    "collapsed": true
   },
   "outputs": [],
   "source": [
    "def get_target(sent_list):\n",
    "    token_list = []\n",
    "    frame = 'None'\n",
    "    for i in sent_list:\n",
    "        #print(i)\n",
    "        if i[9] == 'Y':\n",
    "            token_list.append(i[1])\n",
    "            frame = i[10]\n",
    "    target = ' '.join(token_list)\n",
    "    spc = [',','.','!','?']\n",
    "    if len(target) >1:\n",
    "        if target[-1] in spc:\n",
    "            target = re.sub('[,.?!]', '', target)\n",
    "    return target, frame"
   ]
  },
  {
   "cell_type": "code",
   "execution_count": 5,
   "metadata": {
    "collapsed": false
   },
   "outputs": [
    {
     "name": "stdout",
     "output_type": "stream",
     "text": [
      "33311\n",
      "33311 0\n",
      "2793\n",
      "2793 0\n",
      "14462\n",
      "14462 0\n"
     ]
    }
   ],
   "source": [
    "ok, no = 0,0\n",
    "for i in training:\n",
    "    #print(i)\n",
    "    target, frame = get_target(i)\n",
    "    lus = kfn.surface_to_lu_ids(target,frame)\n",
    "    if len(lus) > 0:\n",
    "        ok = ok+1\n",
    "    else:\n",
    "        #print(target)\n",
    "        no = no+1\n",
    "    #break\n",
    "print(len(training))\n",
    "print(ok,no)\n",
    "\n",
    "ok, no = 0,0\n",
    "for i in test:\n",
    "    #print(i)\n",
    "    target, frame = get_target(i)\n",
    "    lus = kfn.surface_to_lu_ids(target,frame)\n",
    "    if len(lus) > 0:\n",
    "        ok = ok+1\n",
    "    else:\n",
    "        #print(target)\n",
    "        no = no+1\n",
    "    #break\n",
    "print(len(test))\n",
    "print(ok,no)\n",
    "\n",
    "ok, no = 0,0\n",
    "for i in training_fe:\n",
    "    #print(i)\n",
    "    target, frame = get_target(i)\n",
    "    lus = kfn.surface_to_lu_ids(target,frame)\n",
    "    if len(lus) > 0:\n",
    "        ok = ok+1\n",
    "    else:\n",
    "        #print(target)\n",
    "        no = no+1\n",
    "    #break\n",
    "print(len(training_fe))\n",
    "print(ok,no)"
   ]
  }
 ],
 "metadata": {
  "kernelspec": {
   "display_name": "Python 3",
   "language": "python",
   "name": "python3"
  },
  "language_info": {
   "codemirror_mode": {
    "name": "ipython",
    "version": 3
   },
   "file_extension": ".py",
   "mimetype": "text/x-python",
   "name": "python",
   "nbconvert_exporter": "python",
   "pygments_lexer": "ipython3",
   "version": "3.5.2"
  }
 },
 "nbformat": 4,
 "nbformat_minor": 2
}
