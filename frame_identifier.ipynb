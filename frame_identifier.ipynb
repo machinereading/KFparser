{
 "cells": [
  {
   "cell_type": "code",
   "execution_count": 1,
   "metadata": {
    "collapsed": false,
    "deletable": true,
    "editable": true
   },
   "outputs": [],
   "source": [
    "import json\n",
    "import re\n",
    "from koreanframenet import kfn\n",
    "import preprocessor\n",
    "import random"
   ]
  },
  {
   "cell_type": "code",
   "execution_count": 3,
   "metadata": {
    "collapsed": false,
    "deletable": true,
    "editable": true
   },
   "outputs": [
    {
     "name": "stdout",
     "output_type": "stream",
     "text": [
      "### loading data now...\n",
      "# training_data\n",
      " - number of full-sentences: 3528\n",
      " - number of sentences: 15591 \n",
      "\n",
      "# test_data\n",
      " - number of full-sentences: 807\n",
      " - number of sentences: 1506 \n",
      "\n",
      "# dev_data\n",
      " - number of full-sentences: 194\n",
      " - number of sentences: 362 \n",
      "\n",
      "# exemplar data (from sejong)\n",
      " - number of full-sentences: 10967\n",
      " - number of sentences: 10967 \n",
      "\n"
     ]
    }
   ],
   "source": [
    "def load_data():\n",
    "    training, test, dev, exemplar = preprocessor.load_data()\n",
    "    return training, test, dev, exemplar\n",
    "\n",
    "training_data, test_data, dev_data, exemplar_data = load_data()"
   ]
  },
  {
   "cell_type": "code",
   "execution_count": 3,
   "metadata": {
    "collapsed": true,
    "deletable": true,
    "editable": true
   },
   "outputs": [],
   "source": [
    "def get_target(sent_list):\n",
    "    token_list = []\n",
    "    frame = 'None'\n",
    "    for i in sent_list:\n",
    "        #print(i)\n",
    "        if i[9] == 'Y':\n",
    "            token_list.append(i[1])\n",
    "            frame = i[10]\n",
    "    target = ' '.join(token_list)\n",
    "    spc = [',','.','!','?']\n",
    "    if len(target) >1:\n",
    "        if target[-1] in spc:\n",
    "            target = re.sub('[,.?!]', '', target)\n",
    "    return target, frame"
   ]
  },
  {
   "cell_type": "code",
   "execution_count": 4,
   "metadata": {
    "collapsed": true,
    "deletable": true,
    "editable": true
   },
   "outputs": [],
   "source": [
    "def get_exams():\n",
    "    mylist = []\n",
    "    for i in test_data:\n",
    "        target, frame = get_target(sent_list)\n",
    "        lu_id = kfn.surface_to_lu_id(target, frame)\n",
    "        #print(lu_id)\n",
    "        lu = kfn.lu(lu_id)['lu']\n",
    "        pos = lu.split('.')[1]\n",
    "        if pos == 'v':\n",
    "            mylist.append(lu)\n",
    "            "
   ]
  },
  {
   "cell_type": "code",
   "execution_count": 5,
   "metadata": {
    "collapsed": false,
    "deletable": true,
    "editable": true
   },
   "outputs": [],
   "source": [
    "def get_lu_list(sent_list):\n",
    "    target, frame = get_target(sent_list)\n",
    "    lu_id = kfn.surface_to_lu_id(target, frame)\n",
    "    \n",
    "    return lu_id\n",
    "\n",
    "def lu_statistic():\n",
    "    mylist = []\n",
    "    for sent_list in test_data:\n",
    "        target, frame = get_target(sent_list)\n",
    "        lu_id = kfn.surface_to_lu_id(target, frame)\n",
    "        #print(lu_id)\n",
    "        lu = kfn.lu(lu_id)['lu']\n",
    "        mylist.append(lu)\n",
    "    n,v,a=0,0,0\n",
    "    for i in mylist:\n",
    "        pos = i.split('.')[1]\n",
    "        if pos == 'v':\n",
    "            v = v+1\n",
    "        elif pos == 'n':\n",
    "            n = n+1\n",
    "        else:\n",
    "            a = a+1\n",
    "    print(n,v,a)\n",
    "#lu_statistic()"
   ]
  },
  {
   "cell_type": "markdown",
   "metadata": {
    "deletable": true,
    "editable": true
   },
   "source": [
    "(0) Baseline\n",
    "\n",
    "주어진 target 으로부터 random 으로 frame을 가져옴"
   ]
  },
  {
   "cell_type": "code",
   "execution_count": 6,
   "metadata": {
    "collapsed": false,
    "deletable": true,
    "editable": true
   },
   "outputs": [],
   "source": [
    "def load_kfn_data():\n",
    "    with open('./koreanframenet/resource/KFN_lus.json','r') as f:\n",
    "        kolus = json.load(f)\n",
    "    return kolus\n",
    "kolus = load_kfn_data()\n",
    "\n",
    "def get_ramdom_frame(sent_list):\n",
    "    target, frame = get_target(sent_list)\n",
    "    lu_id = get_lu_list(sent_list)\n",
    "    lu = kfn.lu(lu_id)['lu'].split('.')[0]\n",
    "    frames = []\n",
    "    for i in kolus:\n",
    "        lex = i['lu'].split('.')[0]\n",
    "        if lu == lex:\n",
    "            frames.append(i['frameName'])\n",
    "    frames = list(set(frames))\n",
    "    frame = random.choice(frames)\n",
    "    return frame"
   ]
  },
  {
   "cell_type": "markdown",
   "metadata": {
    "deletable": true,
    "editable": true
   },
   "source": [
    "(1) Baseline 2:\n",
    "\n",
    "각 LU의 dependency-based doc2vec embedding"
   ]
  },
  {
   "cell_type": "markdown",
   "metadata": {
    "deletable": true,
    "editable": true
   },
   "source": [
    "Evaluation method: accuracy"
   ]
  },
  {
   "cell_type": "code",
   "execution_count": 9,
   "metadata": {
    "collapsed": false,
    "deletable": true,
    "editable": true
   },
   "outputs": [
    {
     "name": "stdout",
     "output_type": "stream",
     "text": [
      "accuracy: 0.3200859291084855\n"
     ]
    }
   ],
   "source": [
    "def test():\n",
    "    c,e,n = 0,0,0\n",
    "    for sent_list in test_data:\n",
    "        target, answer_frame = get_target(sent_list)\n",
    "        pred_frame = get_ramdom_frame(sent_list)\n",
    "        if answer_frame == pred_frame:\n",
    "            c = c+1\n",
    "        else:\n",
    "            #print(target, answer_frame, pred_frame)\n",
    "            pass\n",
    "        n = n+1\n",
    "    print('accuracy:', c/n)\n",
    "        \n",
    "test()"
   ]
  }
 ],
 "metadata": {
  "kernelspec": {
   "display_name": "Python 3",
   "language": "python",
   "name": "python3"
  },
  "language_info": {
   "codemirror_mode": {
    "name": "ipython",
    "version": 3
   },
   "file_extension": ".py",
   "mimetype": "text/x-python",
   "name": "python",
   "nbconvert_exporter": "python",
   "pygments_lexer": "ipython3",
   "version": "3.5.2"
  }
 },
 "nbformat": 4,
 "nbformat_minor": 2
}
