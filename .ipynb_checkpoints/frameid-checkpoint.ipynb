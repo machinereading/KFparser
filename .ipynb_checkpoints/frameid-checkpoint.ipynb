{
 "cells": [
  {
   "cell_type": "code",
   "execution_count": 1,
   "metadata": {
    "collapsed": true,
    "deletable": true,
    "editable": true
   },
   "outputs": [],
   "source": [
    "import json\n",
    "import re\n",
    "from koreanframenet import kfn\n",
    "import preprocessor\n",
    "import random"
   ]
  },
  {
   "cell_type": "code",
   "execution_count": 2,
   "metadata": {
    "collapsed": false,
    "deletable": true,
    "editable": true
   },
   "outputs": [],
   "source": [
    "def get_frame_candidates(token_list):\n",
    "    frame_candis = []\n",
    "    for token in token_list:\n",
    "        if token[12] != '_':\n",
    "            target = token[12]\n",
    "            lu_list = kfn.lus_by_lu(target)\n",
    "            break\n",
    "#     for lu_item in lu_list:\n",
    "#         frame_candi = lu_item['frameName']\n",
    "#         frame_candis.append(frame_candi)\n",
    "#     frame_candis = list(set(frame_candis))\n",
    "    return lu_list"
   ]
  },
  {
   "cell_type": "code",
   "execution_count": 3,
   "metadata": {
    "collapsed": true,
    "deletable": true,
    "editable": true
   },
   "outputs": [],
   "source": [
    "def frame_identification_frequent(token_list):\n",
    "    lu_list = get_frame_candidates(token_list)\n",
    "    max_num = 0\n",
    "    frame = None\n",
    "    for lu_item in lu_list:\n",
    "        count = len(lu_item['ko_annotation_id'])\n",
    "        if count > max_num:\n",
    "            frame = lu_item['frameName']\n",
    "            max_num = count\n",
    "    return frame"
   ]
  },
  {
   "cell_type": "code",
   "execution_count": 4,
   "metadata": {
    "collapsed": false,
    "deletable": true,
    "editable": true
   },
   "outputs": [],
   "source": [
    "def frame_identification_random(token_list):\n",
    "    lu_list = get_frame_candidates(token_list)\n",
    "    frame_candis = []\n",
    "    for lu_item in lu_list:\n",
    "        frame_candi = lu_item['frameName']\n",
    "        frame_candis.append(frame_candi)\n",
    "    frame_candis = list(set(frame_candis))\n",
    "    frame = random.choice(frame_candis)\n",
    "    return frame"
   ]
  },
  {
   "cell_type": "code",
   "execution_count": 23,
   "metadata": {
    "collapsed": true,
    "deletable": true,
    "editable": true
   },
   "outputs": [],
   "source": [
    "def frame_identifier(sent_list, model):\n",
    "    for n in range(len(sent_list)):\n",
    "        if model == 'random':\n",
    "            frame  = frame_identification_random(sent_list[n])\n",
    "        elif model == 'frequent':\n",
    "            frame = frame_identification_frequent(sent_list[n])\n",
    "        else:\n",
    "            print('no model')\n",
    "            \n",
    "        for token in sent_list[n]:\n",
    "            if token[12] != '_':\n",
    "                token.append(frame)\n",
    "            else:\n",
    "                token.append('_')\n",
    "    return sent_list"
   ]
  },
  {
   "cell_type": "code",
   "execution_count": 13,
   "metadata": {
    "collapsed": false
   },
   "outputs": [],
   "source": [
    "def eval_model(test_data, model):    \n",
    "    answer, wrong = 0,0    \n",
    "    fid_result = frame_identifier(test_data, model)\n",
    "    result = []\n",
    "    for sent_num in range(len(test_data)):\n",
    "        for token in test_data[sent_num]:\n",
    "            if token[13] != '_':\n",
    "                gold = token[13]\n",
    "                break\n",
    "        for token in fid_result[sent_num]:\n",
    "            if token[-1] != '_':\n",
    "                pred = token[-1]\n",
    "                break\n",
    "        if gold == pred:\n",
    "            answer += 1\n",
    "        else:\n",
    "            wrong += 1\n",
    "        new_sent_list = []\n",
    "        for token in test_data[sent_num]:\n",
    "            token = token[:14]\n",
    "            if token[12] == '_':\n",
    "                token.append('_')\n",
    "            else:\n",
    "                token.append(pred)\n",
    "            new_sent_list.append(token)\n",
    "        result.append(new_sent_list)\n",
    "    fname = './tmp/frameid.result.'+model\n",
    "    with open(fname, 'w') as f:\n",
    "        for i in result:\n",
    "            for token in i:\n",
    "                line = '\\t'.join(map(str,token))\n",
    "                f.write(line+'\\n')\n",
    "            f.write('\\n')\n",
    "    perform = round(answer / (answer+wrong), 4)\n",
    "    return perform, fname\n",
    "        \n",
    "\n",
    "def evaluation():\n",
    "    _, test_data, _, _ = preprocessor.load_data()\n",
    "    models = ['random', 'frequent']\n",
    "    for model in models:\n",
    "        _, test_data, _, _ = preprocessor.load_data()\n",
    "        perform, fname = eval_model(test_data, model)\n",
    "        print('MODEL:', model, ', accuracy:',perform)\n",
    "        print('Result is save at', fname)\n",
    "        print('')\n",
    "#evaluation()"
   ]
  },
  {
   "cell_type": "code",
   "execution_count": 22,
   "metadata": {
    "collapsed": false,
    "deletable": true,
    "editable": true,
    "scrolled": true
   },
   "outputs": [
    {
     "name": "stdout",
     "output_type": "stream",
     "text": [
      "### loading data now...\n",
      "# training_data\n",
      " - number of sentences: 3528\n",
      " - number of annotations: 15591 \n",
      "\n",
      "# test_data\n",
      " - number of sentences: 807\n",
      " - number of annotations: 1506 \n",
      "\n",
      "# dev_data\n",
      " - number of sentences: 194\n",
      " - number of annotations: 362 \n",
      "\n",
      "# exemplar data (from sejong)\n",
      " - number of sentences: 10967\n",
      " - number of annotations: 10967 \n",
      "\n",
      "...tesing on the model: random\n",
      "[[['0', '당신과', '당신/NP+과/JC', '당신과', 'NP+JC', 'NP+JC', '_', '_', '1', '1', 'NP_CNJ', 'NP_CNJ', '_', '_', 'O', '_'], ['1', '나는', '나/NP+는/JX', '나는', 'NP+JX', 'NP+JX', '_', '_', '11', '11', 'NP_SBJ', 'NP_SBJ', '_', '_', 'O', '_'], ['2', '어려운', '어렵/VA+ㄴ/ETM', '어려운', 'VA+ETM', 'VA+ETM', '_', '_', '3', '3', 'VP_MOD', 'VP_MOD', '_', '_', 'O', '_'], ['3', '문제들에', '문제들/NNG+에/JKB', '문제들에', 'NNG+JKB', 'NNG+JKB', '_', '_', '4', '4', 'NP_AJT', 'NP_AJT', '문제.n', 'Predicament', 'O', 'Experiencer_obj'], ['4', '대한', '대하/VV+ㄴ/ETM', '대한', 'VV+ETM', 'VV+ETM', '_', '_', '5', '5', 'VP_MOD', 'VP_MOD', '_', '_', 'O', '_'], ['5', '해결책은', '해결책/NNG+은/JX', '해결책은', 'NNG+JX', 'NNG+JX', '_', '_', '8', '8', 'NP_SBJ', 'NP_SBJ', '_', '_', 'O', '_'], ['6', '그냥', '그냥/MAG', '그냥', 'MAG', 'MAG', '_', '_', '8', '8', 'AP', 'AP', '_', '_', 'O', '_'], ['7', '우연히', '우연히/MAG', '우연히', 'MAG', 'MAG', '_', '_', '8', '8', 'AP', 'AP', '_', '_', 'O', '_'], ['8', '생기기는', '생기/VV+기/ETN+는/JX', '생기기는', 'VV+ETN+JX', 'VV+ETN+JX', '_', '_', '9', '9', 'VP_SBJ', 'VP_SBJ', '_', '_', 'O', '_'], ['9', '어렵다는', '어렵/VA+다는/ETM', '어렵다는', 'VA+ETM', 'VA+ETM', '_', '_', '10', '10', 'VP_MOD', 'VP_MOD', '_', '_', 'O', '_'], ['10', '것을', '것/NNB+을/JKO', '것을', 'NNB+JKO', 'NNB+JKO', '_', '_', '11', '11', 'NP_OBJ', 'NP_OBJ', '_', '_', 'O', '_'], ['11', '알고', '알/VV+고/EC', '알고', 'VV+EC', 'VV+EC', '_', '_', '12', '12', 'VP', 'VP', '_', '_', 'O', '_'], ['12', '있다.', '있/VX+다/EF+./SF', '있다.', 'VX+EF+SF', 'VX+EF+SF', '_', '_', '-1', '-1', 'VP', 'VP', '_', '_', 'O', '_']]]\n",
      "### loading data now...\n",
      "# training_data\n",
      " - number of sentences: 3528\n",
      " - number of annotations: 15591 \n",
      "\n",
      "# test_data\n",
      " - number of sentences: 807\n",
      " - number of annotations: 1506 \n",
      "\n",
      "# dev_data\n",
      " - number of sentences: 194\n",
      " - number of annotations: 362 \n",
      "\n",
      "# exemplar data (from sejong)\n",
      " - number of sentences: 10967\n",
      " - number of annotations: 10967 \n",
      "\n",
      "...tesing on the model: frequent\n",
      "[[['0', '당신과', '당신/NP+과/JC', '당신과', 'NP+JC', 'NP+JC', '_', '_', '1', '1', 'NP_CNJ', 'NP_CNJ', '_', '_', 'O', '_'], ['1', '나는', '나/NP+는/JX', '나는', 'NP+JX', 'NP+JX', '_', '_', '11', '11', 'NP_SBJ', 'NP_SBJ', '_', '_', 'O', '_'], ['2', '어려운', '어렵/VA+ㄴ/ETM', '어려운', 'VA+ETM', 'VA+ETM', '_', '_', '3', '3', 'VP_MOD', 'VP_MOD', '_', '_', 'O', '_'], ['3', '문제들에', '문제들/NNG+에/JKB', '문제들에', 'NNG+JKB', 'NNG+JKB', '_', '_', '4', '4', 'NP_AJT', 'NP_AJT', '문제.n', 'Predicament', 'O', 'Predicament'], ['4', '대한', '대하/VV+ㄴ/ETM', '대한', 'VV+ETM', 'VV+ETM', '_', '_', '5', '5', 'VP_MOD', 'VP_MOD', '_', '_', 'O', '_'], ['5', '해결책은', '해결책/NNG+은/JX', '해결책은', 'NNG+JX', 'NNG+JX', '_', '_', '8', '8', 'NP_SBJ', 'NP_SBJ', '_', '_', 'O', '_'], ['6', '그냥', '그냥/MAG', '그냥', 'MAG', 'MAG', '_', '_', '8', '8', 'AP', 'AP', '_', '_', 'O', '_'], ['7', '우연히', '우연히/MAG', '우연히', 'MAG', 'MAG', '_', '_', '8', '8', 'AP', 'AP', '_', '_', 'O', '_'], ['8', '생기기는', '생기/VV+기/ETN+는/JX', '생기기는', 'VV+ETN+JX', 'VV+ETN+JX', '_', '_', '9', '9', 'VP_SBJ', 'VP_SBJ', '_', '_', 'O', '_'], ['9', '어렵다는', '어렵/VA+다는/ETM', '어렵다는', 'VA+ETM', 'VA+ETM', '_', '_', '10', '10', 'VP_MOD', 'VP_MOD', '_', '_', 'O', '_'], ['10', '것을', '것/NNB+을/JKO', '것을', 'NNB+JKO', 'NNB+JKO', '_', '_', '11', '11', 'NP_OBJ', 'NP_OBJ', '_', '_', 'O', '_'], ['11', '알고', '알/VV+고/EC', '알고', 'VV+EC', 'VV+EC', '_', '_', '12', '12', 'VP', 'VP', '_', '_', 'O', '_'], ['12', '있다.', '있/VX+다/EF+./SF', '있다.', 'VX+EF+SF', 'VX+EF+SF', '_', '_', '-1', '-1', 'VP', 'VP', '_', '_', 'O', '_']]]\n"
     ]
    }
   ],
   "source": [
    "def test():\n",
    "    import targetid\n",
    "    import etri\n",
    "    \n",
    "    _, test_data, _, _ = preprocessor.load_data()\n",
    "    test = test_data\n",
    "    testing = [  test[1] ]\n",
    "    fid_result = frame_identifier(testing, 'random')\n",
    "    print(fid_result)\n",
    "    _, test_data, _, _ = preprocessor.load_data()\n",
    "    test = test_data\n",
    "    testing = [  test[1] ]\n",
    "    fid_result = frame_identifier(testing, 'frequent')\n",
    "    print(fid_result)\n",
    "#test()"
   ]
  }
 ],
 "metadata": {
  "kernelspec": {
   "display_name": "Python 3",
   "language": "python",
   "name": "python3"
  },
  "language_info": {
   "codemirror_mode": {
    "name": "ipython",
    "version": 3
   },
   "file_extension": ".py",
   "mimetype": "text/x-python",
   "name": "python",
   "nbconvert_exporter": "python",
   "pygments_lexer": "ipython3",
   "version": "3.5.2"
  }
 },
 "nbformat": 4,
 "nbformat_minor": 2
}
