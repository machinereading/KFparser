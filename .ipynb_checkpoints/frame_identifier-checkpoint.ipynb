{
 "cells": [
  {
   "cell_type": "code",
   "execution_count": 14,
   "metadata": {
    "collapsed": false,
    "deletable": true,
    "editable": true
   },
   "outputs": [],
   "source": [
    "import json\n",
    "import re\n",
    "from koreanframenet import kfn\n",
    "import preprocessor\n",
    "import random"
   ]
  },
  {
   "cell_type": "code",
   "execution_count": 2,
   "metadata": {
    "collapsed": false,
    "deletable": true,
    "editable": true
   },
   "outputs": [
    {
     "name": "stdout",
     "output_type": "stream",
     "text": [
      "### loading data now...\n",
      "# training_data\n",
      " - number of full-sentences: 14811\n",
      " - number of sentences: 33311 \n",
      "\n",
      "# test_data\n",
      " - number of full-sentences: 1863\n",
      " - number of sentences: 2793 \n",
      "\n",
      "# training_fe (for FE identification)\n",
      " - number of full-sentences: 4248\n",
      " - number of sentences: 14462 \n",
      "\n"
     ]
    }
   ],
   "source": [
    "def load_data():\n",
    "    training, test, training_fe = preprocessor.load_data()\n",
    "    return training, test, training_fe\n",
    "\n",
    "training_data, test_data, training_fe_data = load_data()"
   ]
  },
  {
   "cell_type": "code",
   "execution_count": 3,
   "metadata": {
    "collapsed": true,
    "deletable": true,
    "editable": true
   },
   "outputs": [],
   "source": [
    "def get_target(sent_list):\n",
    "    token_list = []\n",
    "    frame = 'None'\n",
    "    for i in sent_list:\n",
    "        #print(i)\n",
    "        if i[9] == 'Y':\n",
    "            token_list.append(i[1])\n",
    "            frame = i[10]\n",
    "    target = ' '.join(token_list)\n",
    "    spc = [',','.','!','?']\n",
    "    if len(target) >1:\n",
    "        if target[-1] in spc:\n",
    "            target = re.sub('[,.?!]', '', target)\n",
    "    return target, frame"
   ]
  },
  {
   "cell_type": "code",
   "execution_count": 6,
   "metadata": {
    "collapsed": false,
    "deletable": true,
    "editable": true
   },
   "outputs": [],
   "source": [
    "def get_lu_list(sent_list):\n",
    "    target, frame = get_target(sent_list)\n",
    "    lu_id = kfn.surface_to_lu_id(target, frame)\n",
    "    \n",
    "    return lu_id"
   ]
  },
  {
   "cell_type": "markdown",
   "metadata": {},
   "source": [
    "0. Baseline\n",
    "주어진 target 으로부터 random 으로 frame을 가져옴"
   ]
  },
  {
   "cell_type": "code",
   "execution_count": 22,
   "metadata": {
    "collapsed": false
   },
   "outputs": [
    {
     "name": "stdout",
     "output_type": "stream",
     "text": [
      "accuracy: 0.753311851056212\n"
     ]
    }
   ],
   "source": [
    "def load_kfn_data():\n",
    "    with open('./koreanframenet/resource/KFN_lus.json','r') as f:\n",
    "        kolus = json.load(f)\n",
    "    return kolus\n",
    "kolus = load_kfn_data()\n",
    "\n",
    "def get_ramdom_frame(sent_list):\n",
    "    target, frame = get_target(sent_list)\n",
    "    frames = []\n",
    "    for i in kolus:\n",
    "        if target in i['surface_forms']:\n",
    "            frames.append(i['frameName'])\n",
    "    frames = list(set(frames))\n",
    "    frame = random.choice(frames)\n",
    "    return frame\n",
    "\n",
    "def test():\n",
    "    c,e,n = 0,0,0\n",
    "    for sent_list in test_data:\n",
    "        target, answer_frame = get_target(sent_list)\n",
    "        pred_frame = get_ramdom_frame(sent_list)\n",
    "        if answer_frame == pred_frame:\n",
    "            c = c+1\n",
    "        else:\n",
    "            e = e+1\n",
    "        n = n+1\n",
    "    print('accuracy:', c/n)\n",
    "        \n",
    "test()"
   ]
  }
 ],
 "metadata": {
  "kernelspec": {
   "display_name": "Python 3",
   "language": "python",
   "name": "python3"
  },
  "language_info": {
   "codemirror_mode": {
    "name": "ipython",
    "version": 3
   },
   "file_extension": ".py",
   "mimetype": "text/x-python",
   "name": "python",
   "nbconvert_exporter": "python",
   "pygments_lexer": "ipython3",
   "version": "3.5.2"
  }
 },
 "nbformat": 4,
 "nbformat_minor": 2
}
