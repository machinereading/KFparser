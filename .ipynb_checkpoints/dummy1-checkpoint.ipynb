{
 "cells": [
  {
   "cell_type": "code",
   "execution_count": 12,
   "metadata": {
    "collapsed": false
   },
   "outputs": [],
   "source": [
    "import etri\n",
    "import preprocessor\n",
    "import json\n",
    "import pprint\n",
    "\n",
    "text = \"나는 밥을 먹었다\"\n",
    "\n",
    "def nlp_module(text):\n",
    "    conll = etri.getETRI_CoNLL2006(text)\n",
    "    print(conll)\n",
    "    \n",
    "#nlp_module(text)"
   ]
  },
  {
   "cell_type": "code",
   "execution_count": 6,
   "metadata": {
    "collapsed": false
   },
   "outputs": [
    {
     "name": "stdout",
     "output_type": "stream",
     "text": [
      "### loading data now...\n",
      "# training_data\n",
      " - number of full-sentences: 14811\n",
      " - number of sentences: 33311 \n",
      "\n",
      "# test_data\n",
      " - number of full-sentences: 1863\n",
      " - number of sentences: 2793 \n",
      "\n",
      "# training_fe (for FE identification)\n",
      " - number of full-sentences: 4248\n",
      " - number of sentences: 14462 \n",
      "\n"
     ]
    }
   ],
   "source": [
    "def load_data():\n",
    "    training, test, training_fe = preprocessor.load_data()\n",
    "    return training, test, training_fe\n",
    "\n",
    "training_data, test_data, training_fe_data = load_data()"
   ]
  },
  {
   "cell_type": "code",
   "execution_count": 13,
   "metadata": {
    "collapsed": false
   },
   "outputs": [
    {
     "name": "stdout",
     "output_type": "stream",
     "text": [
      "{'lexeme': '선언서',\n",
      " 'lu': '선언서.n.Statement',\n",
      " 'lu_id': 1,\n",
      " 'surface_forms': ['선언서를'],\n",
      " 'valencePatterns': [{'FE': 'topic',\n",
      "                      'PT': 'VP_MOD',\n",
      "                      'pos_sequence': ['NNG',\n",
      "                                       'NNG+JC',\n",
      "                                       'NNG',\n",
      "                                       'NNG',\n",
      "                                       'NNG+JKB',\n",
      "                                       'VV+ETM'],\n",
      "                      'pt_sequence': ['NP',\n",
      "                                      'NP_CNJ',\n",
      "                                      'NP_AJT',\n",
      "                                      'NP',\n",
      "                                      'NP_AJT',\n",
      "                                      'VP_MOD'],\n",
      "                      'suffix': '관한/VV+ETM',\n",
      "                      'suffix_pos': 'VV+ETM'},\n",
      "                     {'FE': 'speaker',\n",
      "                      'PT': 'NP_SBJ',\n",
      "                      'pos_sequence': ['NNG+JX'],\n",
      "                      'pt_sequence': ['NP_SBJ'],\n",
      "                      'suffix': '은/JX',\n",
      "                      'suffix_pos': 'JX'}]}\n"
     ]
    }
   ],
   "source": [
    "def load_valencePattern():\n",
    "    with open('./valencePattern_0628.json','r') as f:\n",
    "        d = json.load(f)\n",
    "    return d\n",
    "\n",
    "vp = load_valencePattern()\n",
    "pprint.pprint(vp[0])"
   ]
  }
 ],
 "metadata": {
  "kernelspec": {
   "display_name": "Python 3",
   "language": "python",
   "name": "python3"
  },
  "language_info": {
   "codemirror_mode": {
    "name": "ipython",
    "version": 3
   },
   "file_extension": ".py",
   "mimetype": "text/x-python",
   "name": "python",
   "nbconvert_exporter": "python",
   "pygments_lexer": "ipython3",
   "version": "3.5.2"
  }
 },
 "nbformat": 4,
 "nbformat_minor": 2
}
